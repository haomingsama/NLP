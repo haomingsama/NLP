{
 "cells": [
  {
   "cell_type": "markdown",
   "metadata": {},
   "source": [
    "## Assignments for Week-02"
   ]
  },
  {
   "cell_type": "markdown",
   "metadata": {},
   "source": [
    "In this course, we learnt what's the search problem and what's the machine leanring. In this assignment, we need you do some more practice."
   ]
  },
  {
   "cell_type": "markdown",
   "metadata": {},
   "source": [
    "### 1. Re-code the house price machine learning\n",
    "\n",
    "###### 1. Random Choose Method to get optimal *k* and *b*\n",
    "###### 2.Supervised Direction to get optimal *k* and *b*\n",
    "###### 3.Gradient Descent to get optimal *k* and *b*\n",
    "###### 4. Try different Loss function and learning rate. \n",
    "\n",
    "For example, you can change the loss function: $Loss = \\frac{1}{n} sum({y_i - \\hat{y_i}})^2$ to $Loss = \\frac{1}{n} sum(|{y_i - \\hat{y_i}}|)$\n",
    "\n",
    "And you can change the learning rate and observe the performance."
   ]
  },
  {
   "cell_type": "markdown",
   "metadata": {},
   "source": [
    "![](https://timgsa.baidu.com/timg?image&quality=80&size=b9999_10000&sec=1562414412237&di=8377c38d7b50c6f8d45b92ccc78dc1e7&imgtype=0&src=http%3A%2F%2Fmmbiz.qpic.cn%2Fmmbiz_jpg%2FlSyiavfm6wPgQDuDYa42IMgSkLOcPJU91RbkMibGy7VHLrhhNVLibTYk1iaLcmXKTdHc4icTDVia59QFXwqpW8cLflaw%2F640%3Fwx_fmt%3Djpeg)"
   ]
  },
  {
   "cell_type": "code",
   "execution_count": 323,
   "metadata": {},
   "outputs": [],
   "source": [
    "from sklearn.datasets import load_boston\n",
    "import random\n",
    "import matplotlib.pyplot as plt\n",
    "from functools import reduce\n",
    "%matplotlib inline"
   ]
  },
  {
   "cell_type": "code",
   "execution_count": 380,
   "metadata": {},
   "outputs": [],
   "source": [
    "data = load_boston()"
   ]
  },
  {
   "cell_type": "code",
   "execution_count": 381,
   "metadata": {},
   "outputs": [],
   "source": [
    "X,y = data['data'],data['target']"
   ]
  },
  {
   "cell_type": "code",
   "execution_count": 382,
   "metadata": {},
   "outputs": [
    {
     "data": {
      "text/plain": [
       "<matplotlib.collections.PathCollection at 0xa17851e80>"
      ]
     },
     "execution_count": 382,
     "metadata": {},
     "output_type": "execute_result"
    },
    {
     "data": {
      "image/png": "[encoded data removed]",
      "text/plain": [
       "<Figure size 432x288 with 1 Axes>"
      ]
     },
     "metadata": {},
     "output_type": "display_data"
    }
   ],
   "source": [
    "plt.scatter(X[:,4],y)"
   ]
  },
  {
   "cell_type": "code",
   "execution_count": 383,
   "metadata": {},
   "outputs": [],
   "source": [
    "def random_function(x):\n",
    "    k = random.randint(-100,100)\n",
    "    b = random.randint(-100,100)\n",
    "    return k*x+b"
   ]
  },
  {
   "cell_type": "code",
   "execution_count": 384,
   "metadata": {},
   "outputs": [
    {
     "data": {
      "text/plain": [
       "<matplotlib.collections.PathCollection at 0xa17926ac8>"
      ]
     },
     "execution_count": 384,
     "metadata": {},
     "output_type": "execute_result"
    },
    {
     "data": {
      "image/png": "[encoded data removed]",
      "text/plain": [
       "<Figure size 432x288 with 1 Axes>"
      ]
     },
     "metadata": {},
     "output_type": "display_data"
    }
   ],
   "source": [
    "\n",
    "f = random_function(X[:,5])\n",
    "\n",
    "plt.scatter(X[:,5],f,color= 'red')\n",
    "plt.scatter(X[:,5],y,color= 'orange')"
   ]
  },
  {
   "cell_type": "markdown",
   "metadata": {},
   "source": [
    "###### 1. Random Choose Method to get optimal *k* and *b*"
   ]
  },
  {
   "cell_type": "code",
   "execution_count": 385,
   "metadata": {},
   "outputs": [],
   "source": [
    "def loss_function(y_predic, y):\n",
    "    error = y-y_predic\n",
    "    error = [pow(i,2) for i in error]\n",
    "    loss = reduce(lambda x,y: x+y,error)/len(y)\n",
    "    return loss"
   ]
  },
  {
   "cell_type": "markdown",
   "metadata": {},
   "source": [
    "迭代4409之后，loss score 停留在了44.752937169960475 值"
   ]
  },
  {
   "cell_type": "code",
   "execution_count": 393,
   "metadata": {
    "scrolled": true
   },
   "outputs": [
    {
     "name": "stdout",
     "output_type": "stream",
     "text": [
      "loss function =  18659.021669816204 迭代  4 次\n",
      "loss function =  12883.955558695647 迭代  17 次\n",
      "loss function =  3278.733931249013 迭代  19 次\n",
      "loss function =  77.99964461462464 迭代  63 次\n",
      "loss function =  67.94721571541511 迭代  512 次\n",
      "loss function =  51.7300122687747 迭代  1495 次\n",
      "loss function =  46.06969901778657 迭代  2919 次\n",
      "loss function =  45.733044835968386 迭代  3106 次\n",
      "loss function =  44.752937169960475 迭代  4409 次\n"
     ]
    }
   ],
   "source": [
    "i=0\n",
    "random.seed(2018)\n",
    "while True:\n",
    "    i = i+1\n",
    "    f = random_function(X[:,5])\n",
    "    socre = loss_function(f,y)\n",
    "    if i == 1:min_score = socre\n",
    "    if min_score>socre:\n",
    "        min_score = socre\n",
    "        print('loss function = ',min_score,'迭代 ',i,'次')\n",
    "    \n",
    "    if i >10000: break\n",
    "    "
   ]
  },
  {
   "cell_type": "markdown",
   "metadata": {},
   "source": [
    "###### 2.Supervised Direction to get optimal *k* and *b*"
   ]
  },
  {
   "cell_type": "markdown",
   "metadata": {},
   "source": [
    "第二种有方向的速度很快，到第801次，就将score锁定在了44.54871780039525"
   ]
  },
  {
   "cell_type": "code",
   "execution_count": 394,
   "metadata": {},
   "outputs": [
    {
     "name": "stdout",
     "output_type": "stream",
     "text": [
      "loss function =  34084.141166021764 迭代  2 次\n",
      "loss function =  20166.55910945257 迭代  3 次\n",
      "loss function =  15885.327680434768 迭代  4 次\n",
      "loss function =  13461.485121863652 迭代  13 次\n",
      "loss function =  6323.84224732806 迭代  14 次\n",
      "loss function =  281.1376010731224 迭代  15 次\n",
      "loss function =  269.2360181185773 迭代  17 次\n",
      "loss function =  117.34311799011853 迭代  42 次\n",
      "loss function =  49.722422316205545 迭代  44 次\n",
      "loss function =  47.75182839525695 迭代  62 次\n",
      "loss function =  44.54871780039525 迭代  801 次\n"
     ]
    }
   ],
   "source": [
    "i = 0\n",
    "random.seed(2018)\n",
    "k = random.randint(-100,100)\n",
    "b = random.randint(-100,100)\n",
    "direction = {'first':[1,1],'second':[1,-1],'thrid':[-1,1],'forth':[-1,-1]}\n",
    "dirct = random.choice([i for i in direction.keys()])\n",
    "\n",
    "while True:\n",
    "    i = i+1\n",
    "    k = k + direction[dirct][0]*random.randint(0,10)\n",
    "    b = b + direction[dirct][1]*random.randint(0,10)\n",
    "    f = k*X[:,5]+b\n",
    "    socre = loss_function(f,y)\n",
    "    if i == 1:min_score = socre\n",
    "    if min_score>socre:\n",
    "        min_score = socre\n",
    "        print('loss function = ',min_score,'迭代 ',i,'次')\n",
    "    else:\n",
    "        dirct = random.choice([i for i in direction.keys()])\n",
    "    \n",
    "    if i >10000: break"
   ]
  },
  {
   "cell_type": "markdown",
   "metadata": {},
   "source": [
    "Calculate the gradient from the loss function\n",
    "\n",
    "$$f = Loss = \\frac{\\sum_{i=1}^{n}(y_i-\\widehat{y})^2}{n}= \\frac{\\sum_{i=1}^{n}(y_i-(kx_i+b))^2}{n}$$\n",
    "$$f =\\frac{\\sum_{i=1}^{n}({y_i}^2-2y_i({kx_i+b})+(kx_i+b)^2)}{n}$$\n",
    "\n",
    "\n",
    "$$\\frac{\\partial{f}}{\\partial{k}} = \\frac{2k\\sum{x_i}^2+2b\\sum{x_i}-2\\sum{y_i}{x_i}}{n}$$\n",
    "\n",
    "$$\\frac{\\partial{f}}{\\partial{b}} = \\frac{2k\\sum{x_i}+2b-2\\sum{y_i}}{n}$$\n",
    "\n",
    "if $\\frac{\\partial{f}}{\\partial{k}}>0$, k should decrease, otherwise increase. \n",
    "\n",
    "if $\\frac{\\partial{f}}{\\partial{b}}>0$, b should decrease, otherwise increase"
   ]
  },
  {
   "cell_type": "code",
   "execution_count": 371,
   "metadata": {},
   "outputs": [],
   "source": [
    "sum_X = sum(X[:,5])\n",
    "sum_X_2= sum([pow(i,2) for i in X[:,5]])\n",
    "sum_y = sum(y)\n",
    "sum_X_y = sum([X[:,5][i]*y[i] for i in range(len(y))])"
   ]
  },
  {
   "cell_type": "code",
   "execution_count": 372,
   "metadata": {},
   "outputs": [],
   "source": [
    "def partial_k(k,b):\n",
    "    return 2*k*sum_X_2+2*b*sum_X-2*sum_X_y>0"
   ]
  },
  {
   "cell_type": "code",
   "execution_count": 373,
   "metadata": {},
   "outputs": [],
   "source": [
    "def partial_b(k,b):\n",
    "    return 2*k*sum_X+2*b-2*sum_y>0"
   ]
  },
  {
   "cell_type": "markdown",
   "metadata": {},
   "source": [
    "###### 3.Gradient Descent to get optimal *k* and *b*"
   ]
  },
  {
   "cell_type": "markdown",
   "metadata": {},
   "source": [
    "用了梯度下降，更新比第二种方向性方法更频繁，收敛的更快，但结果有时候不如第二种好。有时结果很快达到收敛同是loss也很低，如下组"
   ]
  },
  {
   "cell_type": "code",
   "execution_count": 415,
   "metadata": {
    "scrolled": true
   },
   "outputs": [
    {
     "name": "stdout",
     "output_type": "stream",
     "text": [
      "loss function =  43598.96897367012 迭代  2 次\n",
      "loss function =  43294.1538038281 迭代  3 次\n",
      "loss function =  42990.409805853604 迭代  4 次\n",
      "loss function =  42687.736979746485 迭代  5 次\n",
      "loss function =  42386.135325506955 迭代  6 次\n",
      "loss function =  42085.60484313481 迭代  7 次\n",
      "loss function =  41786.14553263025 迭代  8 次\n",
      "loss function =  41487.757393993015 迭代  9 次\n",
      "loss function =  41190.440427223315 迭代  10 次\n",
      "loss function =  40894.19463232101 迭代  11 次\n",
      "loss function =  40599.0200092863 迭代  12 次\n",
      "loss function =  40304.916558118995 迭代  13 次\n",
      "loss function =  40011.88427881913 迭代  14 次\n",
      "loss function =  39719.9231713868 迭代  15 次\n",
      "loss function =  39429.03323582192 迭代  16 次\n",
      "loss function =  39139.21447212449 迭代  17 次\n",
      "loss function =  38850.46688029458 迭代  18 次\n",
      "loss function =  38562.79046033206 迭代  19 次\n",
      "loss function =  38276.185212237106 迭代  20 次\n",
      "loss function =  37990.65113600956 迭代  21 次\n",
      "loss function =  37706.18823164945 迭代  22 次\n",
      "loss function =  37422.796499156844 迭代  23 次\n",
      "loss function =  37140.475938531745 迭代  24 次\n",
      "loss function =  36859.226549774074 迭代  25 次\n",
      "loss function =  36579.048332883925 迭代  26 次\n",
      "loss function =  36299.94128786121 迭代  27 次\n",
      "loss function =  36021.90541470599 迭代  28 次\n",
      "loss function =  35744.94071341822 迭代  29 次\n",
      "loss function =  35469.047183997885 迭代  30 次\n",
      "loss function =  35194.22482644508 迭代  31 次\n",
      "loss function =  34920.47364075972 迭代  32 次\n",
      "loss function =  34647.79362694182 迭代  33 次\n",
      "loss function =  34376.18478499143 迭代  34 次\n",
      "loss function =  34105.647114908454 迭代  35 次\n",
      "loss function =  33836.180616692975 迭代  36 次\n",
      "loss function =  33567.785290344975 迭代  37 次\n",
      "loss function =  33300.46113586444 迭代  38 次\n",
      "loss function =  33034.20815325136 迭代  39 次\n",
      "loss function =  32769.0263425058 迭代  40 次\n",
      "loss function =  32504.915703627626 迭代  41 次\n",
      "loss function =  32241.876236617005 迭代  42 次\n",
      "loss function =  31979.9079414738 迭代  43 次\n",
      "loss function =  31719.010818198098 迭代  44 次\n",
      "loss function =  31459.184866789874 迭代  45 次\n",
      "loss function =  31200.430087249057 迭代  46 次\n",
      "loss function =  30942.746479575755 迭代  47 次\n",
      "loss function =  30686.13404376996 迭代  48 次\n",
      "loss function =  30430.592779831568 迭代  49 次\n",
      "loss function =  30176.122687760697 迭代  50 次\n",
      "loss function =  29922.72376755726 迭代  51 次\n",
      "loss function =  29670.396019221313 迭代  52 次\n",
      "loss function =  29419.139442752832 迭代  53 次\n",
      "loss function =  29168.95403815184 迭代  54 次\n",
      "loss function =  28919.839805418305 迭代  55 次\n",
      "loss function =  28671.79674455223 迭代  56 次\n",
      "loss function =  28424.824855553637 迭代  57 次\n",
      "loss function =  28178.924138422488 迭代  58 次\n",
      "loss function =  27934.09459315883 迭代  59 次\n",
      "loss function =  27690.33621976264 迭代  60 次\n",
      "loss function =  27447.649018233933 迭代  61 次\n",
      "loss function =  27206.03298857266 迭代  62 次\n",
      "loss function =  26965.488130778933 迭代  63 次\n",
      "loss function =  26726.014444852623 迭代  64 次\n",
      "loss function =  26487.611930793766 迭代  65 次\n",
      "loss function =  26250.280588602396 迭代  66 次\n",
      "loss function =  26014.020418278502 迭代  67 次\n",
      "loss function =  25778.831419822065 迭代  68 次\n",
      "loss function =  25544.713593233137 迭代  69 次\n",
      "loss function =  25311.66693851164 迭代  70 次\n",
      "loss function =  25079.691455657645 迭代  71 次\n",
      "loss function =  24848.787144671103 迭代  72 次\n",
      "loss function =  24618.95400555202 迭代  73 次\n",
      "loss function =  24390.192038300414 迭代  74 次\n",
      "loss function =  24162.5012429163 迭代  75 次\n",
      "loss function =  23935.881619399614 迭代  76 次\n",
      "loss function =  23710.333167750483 迭代  77 次\n",
      "loss function =  23485.855887968737 迭代  78 次\n",
      "loss function =  23262.449780054467 迭代  79 次\n",
      "loss function =  23040.11484400768 迭代  80 次\n",
      "loss function =  22818.851079828415 迭代  81 次\n",
      "loss function =  22598.658487516543 迭代  82 次\n",
      "loss function =  22379.537067072164 迭代  83 次\n",
      "loss function =  22161.486818495287 迭代  84 次\n",
      "loss function =  21944.50774178589 迭代  85 次\n",
      "loss function =  21728.599836943886 迭代  86 次\n",
      "loss function =  21513.76310396943 迭代  87 次\n",
      "loss function =  21299.99754286241 迭代  88 次\n",
      "loss function =  21087.303153622866 迭代  89 次\n",
      "loss function =  20875.679936250777 迭代  90 次\n",
      "loss function =  20665.127890746175 迭代  91 次\n",
      "loss function =  20455.64701710902 迭代  92 次\n",
      "loss function =  20247.237315339393 迭代  93 次\n",
      "loss function =  20039.89878543721 迭代  94 次\n",
      "loss function =  19833.63142740246 迭代  95 次\n",
      "loss function =  19628.43524123522 迭代  96 次\n",
      "loss function =  19424.310226935417 迭代  97 次\n",
      "loss function =  19221.25638450311 迭代  98 次\n",
      "loss function =  19019.273713938266 迭代  99 次\n",
      "loss function =  18818.362215240883 迭代  100 次\n",
      "loss function =  18618.521888410993 迭代  101 次\n",
      "loss function =  18419.752733448542 迭代  102 次\n",
      "loss function =  18222.054750353593 迭代  103 次\n",
      "loss function =  18025.427939126115 迭代  104 次\n",
      "loss function =  17829.872299766095 迭代  105 次\n",
      "loss function =  17635.387832273558 迭代  106 次\n",
      "loss function =  17441.97453664846 迭代  107 次\n",
      "loss function =  17249.63241289086 迭代  108 次\n",
      "loss function =  17058.361461000706 迭代  109 次\n",
      "loss function =  16868.161680978068 迭代  110 次\n",
      "loss function =  16679.033072822862 迭代  111 次\n",
      "loss function =  16490.97563653512 迭代  112 次\n",
      "loss function =  16303.989372114902 迭代  113 次\n",
      "loss function =  16118.074279562092 迭代  114 次\n",
      "loss function =  15933.230358876775 迭代  115 次\n",
      "loss function =  15749.457610058924 迭代  116 次\n",
      "loss function =  15566.75603310855 迭代  117 次\n",
      "loss function =  15385.125628025655 迭代  118 次\n",
      "loss function =  15204.56639481021 迭代  119 次\n",
      "loss function =  15025.078333462232 迭代  120 次\n",
      "loss function =  14846.66144398174 迭代  121 次\n",
      "loss function =  14669.315726368744 迭代  122 次\n",
      "loss function =  14493.041180623166 迭代  123 次\n",
      "loss function =  14317.837806745087 迭代  124 次\n",
      "loss function =  14143.705604734489 迭代  125 次\n",
      "loss function =  13970.644574591332 迭代  126 次\n",
      "loss function =  13798.65471631568 迭代  127 次\n",
      "loss function =  13627.736029907486 迭代  128 次\n",
      "loss function =  13457.888515366742 迭代  129 次\n",
      "loss function =  13289.11217269347 迭代  130 次\n",
      "loss function =  13121.407001887694 迭代  131 次\n",
      "loss function =  12954.773002949367 迭代  132 次\n",
      "loss function =  12789.210175878521 迭代  133 次\n",
      "loss function =  12624.718520675124 迭代  134 次\n",
      "loss function =  12461.298037339246 迭代  135 次\n",
      "loss function =  12298.948725870792 迭代  136 次\n",
      "loss function =  12137.670586269804 迭代  137 次\n",
      "loss function =  11977.463618536322 迭代  138 次\n",
      "loss function =  11818.327822670311 迭代  139 次\n",
      "loss function =  11660.263198671746 迭代  140 次\n",
      "loss function =  11503.26974654065 迭代  141 次\n",
      "loss function =  11347.347466277048 迭代  142 次\n",
      "loss function =  11192.496357880891 迭代  143 次\n",
      "loss function =  11038.716421352226 迭代  144 次\n",
      "loss function =  10886.007656691023 迭代  145 次\n",
      "loss function =  10734.370063897288 迭代  146 次\n",
      "loss function =  10583.803642971025 迭代  147 次\n",
      "loss function =  10434.308393912228 迭代  148 次\n",
      "loss function =  10285.884316720907 迭代  149 次\n",
      "loss function =  10138.53141139705 迭代  150 次\n",
      "loss function =  9992.24967794067 迭代  151 次\n",
      "loss function =  9847.039116351738 迭代  152 次\n",
      "loss function =  9702.899726630318 迭代  153 次\n",
      "loss function =  9559.831508776339 迭代  154 次\n",
      "loss function =  9417.834462789831 迭代  155 次\n",
      "loss function =  9276.908588670809 迭代  156 次\n",
      "loss function =  9137.053886419242 迭代  157 次\n",
      "loss function =  8998.270356035155 迭代  158 次\n",
      "loss function =  8860.55799751854 迭代  159 次\n",
      "loss function =  8723.916810869387 迭代  160 次\n",
      "loss function =  8588.346796087711 迭代  161 次\n",
      "loss function =  8453.847953173505 迭代  162 次\n",
      "loss function =  8320.420282126759 迭代  163 次\n",
      "loss function =  8188.063782947492 迭代  164 次\n",
      "loss function =  8056.778455635689 迭代  165 次\n",
      "loss function =  7926.564300191363 迭代  166 次\n",
      "loss function =  7797.421316614512 迭代  167 次\n",
      "loss function =  7669.34950490513 迭代  168 次\n",
      "loss function =  7542.348865063211 迭代  169 次\n",
      "loss function =  7416.419397088764 迭代  170 次\n",
      "loss function =  7291.561100981785 迭代  171 次\n",
      "loss function =  7167.773976742284 迭代  172 次\n",
      "loss function =  7045.058024370245 迭代  173 次\n",
      "loss function =  6923.413243865677 迭代  174 次\n",
      "loss function =  6802.839635228594 迭代  175 次\n",
      "loss function =  6683.3371984589585 迭代  176 次\n",
      "loss function =  6564.90593355682 迭代  177 次\n",
      "loss function =  6447.545840522132 迭代  178 次\n",
      "loss function =  6331.256919354914 迭代  179 次\n",
      "loss function =  6216.039170055178 迭代  180 次\n",
      "loss function =  6101.892592622901 迭代  181 次\n",
      "loss function =  5988.817187058108 迭代  182 次\n",
      "loss function =  5876.812953360766 迭代  183 次\n",
      "loss function =  5765.879891530917 迭代  184 次\n",
      "loss function =  5656.018001568523 迭代  185 次\n",
      "loss function =  5547.227283473598 迭代  186 次\n",
      "loss function =  5439.5077372461465 迭代  187 次\n",
      "loss function =  5332.859362886174 迭代  188 次\n",
      "loss function =  5227.2821603936645 迭代  189 次\n",
      "loss function =  5122.776129768621 迭代  190 次\n",
      "loss function =  5019.341271011055 迭代  191 次\n",
      "loss function =  4916.9775841209575 迭代  192 次\n",
      "loss function =  4815.685069098335 迭代  193 次\n",
      "loss function =  4715.463725943178 迭代  194 次\n",
      "loss function =  4616.313554655488 迭代  195 次\n",
      "loss function =  4518.234555235273 迭代  196 次\n",
      "loss function =  4421.226727682525 迭代  197 次\n",
      "loss function =  4325.2900719972495 迭代  198 次\n",
      "loss function =  4230.424588179444 迭代  199 次\n",
      "loss function =  4136.630276229104 迭代  200 次\n",
      "loss function =  4043.907136146243 迭代  201 次\n",
      "loss function =  3952.2551679308544 迭代  202 次\n",
      "loss function =  3861.6743715829293 迭代  203 次\n",
      "loss function =  3772.1647471024703 迭代  204 次\n",
      "loss function =  3683.7262944894924 迭代  205 次\n",
      "loss function =  3596.359013743977 迭代  206 次\n",
      "loss function =  3510.0629048659325 迭代  207 次\n",
      "loss function =  3424.837967855362 迭代  208 次\n",
      "loss function =  3340.684202712262 迭代  209 次\n",
      "loss function =  3257.6016094366273 迭代  210 次\n",
      "loss function =  3175.5901880284728 迭代  211 次\n",
      "loss function =  3094.6499384877816 迭代  212 次\n",
      "loss function =  3014.7808608145588 迭代  213 次\n",
      "loss function =  2935.982955008813 迭代  214 次\n",
      "loss function =  2858.25622107053 迭代  215 次\n",
      "loss function =  2781.600658999724 迭代  216 次\n",
      "loss function =  2706.016268796383 迭代  217 次\n",
      "loss function =  2631.5030504605143 迭代  218 次\n",
      "loss function =  2558.0610039921166 迭代  219 次\n",
      "loss function =  2485.6901293911887 迭代  220 次\n",
      "loss function =  2414.3904266577338 迭代  221 次\n",
      "loss function =  2344.1618957917444 迭代  222 次\n",
      "loss function =  2275.0045367932285 迭代  223 次\n",
      "loss function =  2206.9183496621804 迭代  224 次\n",
      "loss function =  2139.90333439861 迭代  225 次\n",
      "loss function =  2073.959491002501 迭代  226 次\n",
      "loss function =  2009.0868194738669 迭代  227 次\n",
      "loss function =  1945.2853198127045 迭代  228 次\n",
      "loss function =  1882.5549920190078 迭代  229 次\n",
      "loss function =  1820.8958360927847 迭代  230 次\n",
      "loss function =  1760.3078520340302 迭代  231 次\n",
      "loss function =  1700.791039842747 迭代  232 次\n",
      "loss function =  1642.3453995189363 迭代  233 次\n",
      "loss function =  1584.9709310625922 迭代  234 次\n",
      "loss function =  1528.6676344737223 迭代  235 次\n",
      "loss function =  1473.4355097523194 迭代  236 次\n",
      "loss function =  1419.2745568983878 迭代  237 次\n",
      "loss function =  1366.1847759119273 迭代  238 次\n",
      "loss function =  1314.1661667929357 迭代  239 次\n",
      "loss function =  1263.2187295414158 迭代  240 次\n",
      "loss function =  1213.3424641573667 迭代  241 次\n",
      "loss function =  1164.5373706407875 迭代  242 次\n",
      "loss function =  1116.8034489916774 迭代  243 次\n",
      "loss function =  1070.1406992100394 迭代  244 次\n",
      "loss function =  1024.5491212958698 迭代  245 次\n",
      "loss function =  980.028715249173 迭代  246 次\n",
      "loss function =  936.5794810699451 迭代  247 次\n",
      "loss function =  894.2014187581881 迭代  248 次\n",
      "loss function =  852.8945283139016 迭代  249 次\n",
      "loss function =  812.6588097370844 迭代  250 次\n",
      "loss function =  773.4942630277383 迭代  251 次\n",
      "loss function =  735.4008881858618 迭代  252 次\n",
      "loss function =  698.378685211457 迭代  253 次\n",
      "loss function =  662.4276541045214 迭代  254 次\n",
      "loss function =  627.5477948650569 迭代  255 次\n"
     ]
    },
    {
     "name": "stdout",
     "output_type": "stream",
     "text": [
      "loss function =  593.7391074930629 迭代  256 次\n",
      "loss function =  561.0015919885386 迭代  257 次\n",
      "loss function =  529.335248351485 迭代  258 次\n",
      "loss function =  498.7400765819021 迭代  259 次\n",
      "loss function =  469.2160766797895 迭代  260 次\n",
      "loss function =  440.76324864514686 迭代  261 次\n",
      "loss function =  413.3815924779746 迭代  262 次\n",
      "loss function =  387.0711081782729 迭代  263 次\n",
      "loss function =  361.83179574604134 迭代  264 次\n",
      "loss function =  337.66365518128015 迭代  265 次\n",
      "loss function =  314.5666864839897 迭代  266 次\n",
      "loss function =  292.5408896541692 迭代  267 次\n",
      "loss function =  271.5862646918193 迭代  268 次\n",
      "loss function =  251.70281159693982 迭代  269 次\n",
      "loss function =  232.8905303695304 迭代  270 次\n",
      "loss function =  215.14942100959166 迭代  271 次\n",
      "loss function =  198.47948351712307 迭代  272 次\n",
      "loss function =  182.880717892125 迭代  273 次\n",
      "loss function =  168.35312413459718 迭代  274 次\n",
      "loss function =  154.89670224454002 迭代  275 次\n",
      "loss function =  142.51145222195288 迭代  276 次\n",
      "loss function =  131.19737406683623 迭代  277 次\n",
      "loss function =  120.95446777918998 迭代  278 次\n",
      "loss function =  111.78273335901389 迭代  279 次\n",
      "loss function =  103.6821708063083 迭代  280 次\n",
      "loss function =  96.65278012107319 迭代  281 次\n",
      "loss function =  90.69456130330833 迭代  282 次\n",
      "loss function =  85.80751435301383 迭代  283 次\n",
      "loss function =  81.9916392701898 迭代  284 次\n",
      "loss function =  79.24693605483606 迭代  285 次\n",
      "loss function =  77.57340470695257 迭代  286 次\n",
      "loss function =  76.97104522653956 迭代  287 次\n"
     ]
    }
   ],
   "source": [
    "random.seed(33)\n",
    "def gradient_descent(learning_rate):\n",
    "    k = random.randint(-100,100)\n",
    "    b = random.randint(-100,100)\n",
    "    i = 0\n",
    "    while True:\n",
    "        if partial_k(k,b): \n",
    "            k = k-learning_rate\n",
    "        else:\n",
    "            k = k+learning_rate\n",
    "\n",
    "        if partial_b(k,b):\n",
    "            b = b-learning_rate\n",
    "        else:\n",
    "            b = b+learning_rate\n",
    "\n",
    "        i = i+1\n",
    "        f = k*X[:,5]+b\n",
    "        socre = loss_function(f,y)\n",
    "\n",
    "        if i == 1:min_score = socre\n",
    "\n",
    "        if min_score>socre:\n",
    "            min_score = socre\n",
    "            print('loss function = ',min_score,'迭代 ',i,'次')\n",
    "        if i >10000: break\n",
    "gradient_descent(0.1)"
   ]
  },
  {
   "cell_type": "markdown",
   "metadata": {},
   "source": [
    "###### 4. Try different Loss function and learning rate. "
   ]
  },
  {
   "cell_type": "markdown",
   "metadata": {},
   "source": [
    "如果将loss function改成  $$ f = \\frac{\\sum_{i=1}^{n}\\mid(y_i-\\widehat{y})\\mid}{n} $$ 就无法使用求梯度的方法了"
   ]
  },
  {
   "cell_type": "markdown",
   "metadata": {},
   "source": [
    "将learning rate 分别调整成1，5，10，试试看"
   ]
  },
  {
   "cell_type": "code",
   "execution_count": 417,
   "metadata": {},
   "outputs": [
    {
     "name": "stdout",
     "output_type": "stream",
     "text": [
      "loss function =  38276.185212237186 迭代  2 次\n",
      "loss function =  35469.04718399799 迭代  3 次\n",
      "loss function =  32769.02634250593 迭代  4 次\n",
      "loss function =  30176.122687760857 迭代  5 次\n",
      "loss function =  27690.336219762838 迭代  6 次\n",
      "loss function =  25311.666938511822 迭代  7 次\n",
      "loss function =  23040.114844007923 迭代  8 次\n",
      "loss function =  20875.679936251003 迭代  9 次\n",
      "loss function =  18818.36221524111 迭代  10 次\n",
      "loss function =  16868.161680978264 迭代  11 次\n",
      "loss function =  15025.078333462445 迭代  12 次\n",
      "loss function =  13289.112172693674 迭代  13 次\n",
      "loss function =  11660.263198671933 迭代  14 次\n",
      "loss function =  10138.531411397236 迭代  15 次\n",
      "loss function =  8723.916810869574 迭代  16 次\n",
      "loss function =  7416.419397088938 迭代  17 次\n",
      "loss function =  6216.039170055335 迭代  18 次\n",
      "loss function =  5122.776129768772 迭代  19 次\n",
      "loss function =  4136.63027622925 迭代  20 次\n",
      "loss function =  3257.6016094367596 迭代  21 次\n",
      "loss function =  2485.6901293913047 迭代  22 次\n",
      "loss function =  1820.8958360928852 迭代  23 次\n",
      "loss function =  1263.2187295415013 迭代  24 次\n",
      "loss function =  812.6588097371545 迭代  25 次\n",
      "loss function =  469.21607667984176 迭代  26 次\n",
      "loss function =  232.89053036956514 迭代  27 次\n",
      "loss function =  103.68217080632405 迭代  28 次\n",
      "loss function =  81.5909979901186 迭代  29 次\n"
     ]
    }
   ],
   "source": [
    "random.seed(33)\n",
    "gradient_descent(1)"
   ]
  },
  {
   "cell_type": "code",
   "execution_count": 419,
   "metadata": {},
   "outputs": [
    {
     "name": "stdout",
     "output_type": "stream",
     "text": [
      "loss function =  18818.36221524111 迭代  2 次\n",
      "loss function =  10138.531411397236 迭代  3 次\n",
      "loss function =  4136.63027622925 迭代  4 次\n",
      "loss function =  812.6588097371545 迭代  5 次\n",
      "loss function =  166.61701192094867 迭代  6 次\n",
      "loss function =  154.87817732608704 迭代  9 次\n",
      "loss function =  125.98786112055332 迭代  11 次\n"
     ]
    }
   ],
   "source": [
    "random.seed(33)\n",
    "gradient_descent(5)"
   ]
  },
  {
   "cell_type": "code",
   "execution_count": 418,
   "metadata": {},
   "outputs": [
    {
     "name": "stdout",
     "output_type": "stream",
     "text": [
      "loss function =  4136.63027622925 迭代  2 次\n",
      "loss function =  166.61701192094867 迭代  3 次\n"
     ]
    }
   ],
   "source": [
    "random.seed(33)\n",
    "gradient_descent(10)"
   ]
  },
  {
   "cell_type": "markdown",
   "metadata": {},
   "source": [
    "似乎介于0.1到1之间，是可优化的空间。大于1的明显学习率太长了。"
   ]
  },
  {
   "cell_type": "code",
   "execution_count": 423,
   "metadata": {},
   "outputs": [
    {
     "name": "stdout",
     "output_type": "stream",
     "text": [
      "loss function =  39719.92317138685 迭代  2 次\n",
      "loss function =  37564.35846891984 迭代  3 次\n",
      "loss function =  35469.04718399799 迭代  4 次\n",
      "loss function =  33433.989316621395 迭代  5 次\n",
      "loss function =  31459.18486679002 迭代  6 次\n",
      "loss function =  29544.633834503802 迭代  7 次\n",
      "loss function =  27690.336219762838 迭代  8 次\n",
      "loss function =  25896.29202256708 迭代  9 次\n",
      "loss function =  24162.5012429165 迭代  10 次\n",
      "loss function =  22488.963880811138 迭代  11 次\n",
      "loss function =  20875.679936251003 迭代  12 次\n",
      "loss function =  19322.649409236037 迭代  13 次\n",
      "loss function =  17829.872299766295 迭代  14 次\n",
      "loss function =  16397.34860784177 迭代  15 次\n",
      "loss function =  15025.078333462445 迭代  16 次\n",
      "loss function =  13713.061476628336 迭代  17 次\n",
      "loss function =  12461.298037339431 迭代  18 次\n",
      "loss function =  11269.788015595717 迭代  19 次\n",
      "loss function =  10138.531411397236 迭代  20 次\n",
      "loss function =  9067.52822474395 迭代  21 次\n",
      "loss function =  8056.778455635871 迭代  22 次\n",
      "loss function =  7106.282104073003 迭代  23 次\n",
      "loss function =  6216.039170055335 迭代  24 次\n",
      "loss function =  5386.049653582878 迭代  25 次\n",
      "loss function =  4616.31355465563 迭代  26 次\n",
      "loss function =  3906.830873273593 迭代  27 次\n",
      "loss function =  3257.6016094367596 迭代  28 次\n",
      "loss function =  2668.625763145134 迭代  29 次\n",
      "loss function =  2139.903334398716 迭代  30 次\n",
      "loss function =  1671.434323197506 迭代  31 次\n",
      "loss function =  1263.2187295415013 迭代  32 次\n",
      "loss function =  915.2565534307063 迭代  33 次\n",
      "loss function =  627.5477948651184 迭代  34 次\n",
      "loss function =  400.092453844738 迭代  35 次\n",
      "loss function =  232.89053036956514 迭代  36 次\n",
      "loss function =  125.9420244395999 迭代  37 次\n",
      "loss function =  79.24693605484191 迭代  38 次\n",
      "loss function =  78.65204969120562 迭代  40 次\n"
     ]
    }
   ],
   "source": [
    "random.seed(33)\n",
    "gradient_descent(0.75)"
   ]
  },
  {
   "cell_type": "code",
   "execution_count": 421,
   "metadata": {
    "scrolled": true
   },
   "outputs": [
    {
     "name": "stdout",
     "output_type": "stream",
     "text": [
      "loss function =  41190.440427223344 迭代  2 次\n",
      "loss function =  39719.92317138685 迭代  3 次\n",
      "loss function =  38276.185212237186 迭代  4 次\n",
      "loss function =  36859.2265497742 迭代  5 次\n",
      "loss function =  35469.04718399799 迭代  6 次\n",
      "loss function =  34105.64711490857 迭代  7 次\n",
      "loss function =  32769.02634250593 迭代  8 次\n",
      "loss function =  31459.18486679002 迭代  9 次\n",
      "loss function =  30176.122687760857 迭代  10 次\n",
      "loss function =  28919.839805418465 迭代  11 次\n",
      "loss function =  27690.336219762838 迭代  12 次\n",
      "loss function =  26487.61193079401 迭代  13 次\n",
      "loss function =  25311.666938511822 迭代  14 次\n",
      "loss function =  24162.5012429165 迭代  15 次\n",
      "loss function =  23040.114844007923 迭代  16 次\n",
      "loss function =  21944.50774178606 迭代  17 次\n",
      "loss function =  20875.679936251003 迭代  18 次\n",
      "loss function =  19833.631427402666 迭代  19 次\n",
      "loss function =  18818.36221524111 迭代  20 次\n",
      "loss function =  17829.872299766295 迭代  21 次\n",
      "loss function =  16868.161680978264 迭代  22 次\n",
      "loss function =  15933.230358876966 迭代  23 次\n",
      "loss function =  15025.078333462445 迭代  24 次\n",
      "loss function =  14143.705604734689 迭代  25 次\n",
      "loss function =  13289.112172693674 迭代  26 次\n",
      "loss function =  12461.298037339431 迭代  27 次\n",
      "loss function =  11660.263198671933 迭代  28 次\n",
      "loss function =  10886.007656691205 迭代  29 次\n",
      "loss function =  10138.531411397236 迭代  30 次\n",
      "loss function =  9417.834462790015 迭代  31 次\n",
      "loss function =  8723.916810869574 迭代  32 次\n",
      "loss function =  8056.778455635871 迭代  33 次\n",
      "loss function =  7416.419397088938 迭代  34 次\n",
      "loss function =  6802.839635228754 迭代  35 次\n",
      "loss function =  6216.039170055335 迭代  36 次\n",
      "loss function =  5656.018001568674 迭代  37 次\n",
      "loss function =  5122.776129768772 迭代  38 次\n",
      "loss function =  4616.31355465563 迭代  39 次\n",
      "loss function =  4136.63027622925 迭代  40 次\n",
      "loss function =  3683.726294489622 迭代  41 次\n",
      "loss function =  3257.6016094367596 迭代  42 次\n",
      "loss function =  2858.256221070653 迭代  43 次\n",
      "loss function =  2485.6901293913047 迭代  44 次\n",
      "loss function =  2139.903334398716 迭代  45 次\n",
      "loss function =  1820.8958360928852 迭代  46 次\n",
      "loss function =  1528.6676344738132 迭代  47 次\n",
      "loss function =  1263.2187295415013 迭代  48 次\n",
      "loss function =  1024.5491212959482 迭代  49 次\n",
      "loss function =  812.6588097371545 迭代  50 次\n",
      "loss function =  627.5477948651184 迭代  51 次\n",
      "loss function =  469.21607667984176 迭代  52 次\n",
      "loss function =  337.66365518132426 迭代  53 次\n",
      "loss function =  232.89053036956514 迭代  54 次\n",
      "loss function =  154.89670224456503 迭代  55 次\n",
      "loss function =  103.68217080632405 迭代  56 次\n",
      "loss function =  79.24693605484191 迭代  57 次\n",
      "loss function =  78.350345145751 迭代  59 次\n"
     ]
    }
   ],
   "source": [
    "random.seed(33)\n",
    "gradient_descent(0.5)"
   ]
  },
  {
   "cell_type": "code",
   "execution_count": 422,
   "metadata": {},
   "outputs": [
    {
     "name": "stdout",
     "output_type": "stream",
     "text": [
      "loss function =  42687.736979746514 迭代  2 次\n",
      "loss function =  41935.741291399136 迭代  3 次\n",
      "loss function =  41190.440427223344 迭代  4 次\n",
      "loss function =  40451.83438721929 迭代  5 次\n",
      "loss function =  39719.92317138685 迭代  6 次\n",
      "loss function =  38994.70677972619 迭代  7 次\n",
      "loss function =  38276.185212237186 迭代  8 次\n",
      "loss function =  37564.35846891984 迭代  9 次\n",
      "loss function =  36859.2265497742 迭代  10 次\n",
      "loss function =  36160.789454800266 迭代  11 次\n",
      "loss function =  35469.04718399799 迭代  12 次\n",
      "loss function =  34783.99973736746 迭代  13 次\n",
      "loss function =  34105.64711490857 迭代  14 次\n",
      "loss function =  33433.989316621395 迭代  15 次\n",
      "loss function =  32769.02634250593 迭代  16 次\n",
      "loss function =  32110.758192562105 迭代  17 次\n",
      "loss function =  31459.18486679002 迭代  18 次\n",
      "loss function =  30814.306365189623 迭代  19 次\n",
      "loss function =  30176.122687760857 迭代  20 次\n",
      "loss function =  29544.633834503802 迭代  21 次\n",
      "loss function =  28919.839805418465 迭代  22 次\n",
      "loss function =  28301.74060050481 迭代  23 次\n",
      "loss function =  27690.336219762838 迭代  24 次\n",
      "loss function =  27085.62666319257 迭代  25 次\n",
      "loss function =  26487.61193079401 迭代  26 次\n",
      "loss function =  25896.29202256708 迭代  27 次\n",
      "loss function =  25311.666938511822 迭代  28 次\n",
      "loss function =  24733.736678628324 迭代  29 次\n",
      "loss function =  24162.5012429165 迭代  30 次\n",
      "loss function =  23597.960631376387 迭代  31 次\n",
      "loss function =  23040.114844007923 迭代  32 次\n",
      "loss function =  22488.963880811138 迭代  33 次\n",
      "loss function =  21944.50774178606 迭代  34 次\n",
      "loss function =  21406.746426932703 迭代  35 次\n",
      "loss function =  20875.679936251003 迭代  36 次\n",
      "loss function =  20351.30826974098 迭代  37 次\n",
      "loss function =  19833.631427402666 迭代  38 次\n",
      "loss function =  19322.649409236037 迭代  39 次\n",
      "loss function =  18818.36221524111 迭代  40 次\n",
      "loss function =  18320.769845417883 迭代  41 次\n",
      "loss function =  17829.872299766295 迭代  42 次\n",
      "loss function =  17345.669578286444 迭代  43 次\n",
      "loss function =  16868.161680978264 迭代  44 次\n",
      "loss function =  16397.34860784177 迭代  45 次\n",
      "loss function =  15933.230358876966 迭代  46 次\n",
      "loss function =  15475.80693408387 迭代  47 次\n",
      "loss function =  15025.078333462445 迭代  48 次\n",
      "loss function =  14581.044557012716 迭代  49 次\n",
      "loss function =  14143.705604734689 迭代  50 次\n",
      "loss function =  13713.061476628336 迭代  51 次\n",
      "loss function =  13289.112172693674 迭代  52 次\n",
      "loss function =  12871.857692930696 迭代  53 次\n",
      "loss function =  12461.298037339431 迭代  54 次\n",
      "loss function =  12057.433205919835 迭代  55 次\n",
      "loss function =  11660.263198671933 迭代  56 次\n",
      "loss function =  11269.788015595717 迭代  57 次\n",
      "loss function =  10886.007656691205 迭代  58 次\n",
      "loss function =  10508.922121958369 迭代  59 次\n",
      "loss function =  10138.531411397236 迭代  60 次\n",
      "loss function =  9774.83552500778 迭代  61 次\n",
      "loss function =  9417.834462790015 迭代  62 次\n",
      "loss function =  9067.52822474395 迭代  63 次\n",
      "loss function =  8723.916810869574 迭代  64 次\n",
      "loss function =  8387.000221166873 迭代  65 次\n",
      "loss function =  8056.778455635871 迭代  66 次\n",
      "loss function =  7733.251514276567 迭代  67 次\n",
      "loss function =  7416.419397088938 迭代  68 次\n",
      "loss function =  7106.282104073003 迭代  69 次\n",
      "loss function =  6802.839635228754 迭代  70 次\n",
      "loss function =  6506.091990556195 迭代  71 次\n",
      "loss function =  6216.039170055335 迭代  72 次\n",
      "loss function =  5932.681173726158 迭代  73 次\n",
      "loss function =  5656.018001568674 迭代  74 次\n",
      "loss function =  5386.049653582878 迭代  75 次\n",
      "loss function =  5122.776129768772 迭代  76 次\n",
      "loss function =  4866.197430126361 迭代  77 次\n",
      "loss function =  4616.31355465563 迭代  78 次\n",
      "loss function =  4373.124503356595 迭代  79 次\n",
      "loss function =  4136.63027622925 迭代  80 次\n",
      "loss function =  3906.830873273593 迭代  81 次\n",
      "loss function =  3683.726294489622 迭代  82 次\n",
      "loss function =  3467.3165398773485 迭代  83 次\n",
      "loss function =  3257.6016094367596 迭代  84 次\n",
      "loss function =  3054.581503167866 迭代  85 次\n",
      "loss function =  2858.256221070653 迭代  86 次\n",
      "loss function =  2668.625763145134 迭代  87 次\n",
      "loss function =  2485.6901293913047 迭代  88 次\n",
      "loss function =  2309.449319809165 迭代  89 次\n",
      "loss function =  2139.903334398716 迭代  90 次\n",
      "loss function =  1977.0521731599551 迭代  91 次\n",
      "loss function =  1820.8958360928852 迭代  92 次\n",
      "loss function =  1671.434323197506 迭代  93 次\n",
      "loss function =  1528.6676344738132 迭代  94 次\n",
      "loss function =  1392.595769921813 迭代  95 次\n",
      "loss function =  1263.2187295415013 迭代  96 次\n",
      "loss function =  1140.5365133328812 迭代  97 次\n",
      "loss function =  1024.5491212959482 迭代  98 次\n",
      "loss function =  915.2565534307063 迭代  99 次\n",
      "loss function =  812.6588097371545 迭代  100 次\n",
      "loss function =  716.7558902152913 迭代  101 次\n",
      "loss function =  627.5477948651184 迭代  102 次\n",
      "loss function =  545.0345236866352 迭代  103 次\n",
      "loss function =  469.21607667984176 迭代  104 次\n",
      "loss function =  400.092453844738 迭代  105 次\n",
      "loss function =  337.66365518132426 迭代  106 次\n",
      "loss function =  281.92968068959965 迭代  107 次\n",
      "loss function =  232.89053036956514 迭代  108 次\n",
      "loss function =  190.54620422122022 迭代  109 次\n",
      "loss function =  154.89670224456503 迭代  110 次\n",
      "loss function =  125.9420244395999 迭代  111 次\n",
      "loss function =  103.68217080632405 迭代  112 次\n",
      "loss function =  88.1171413447382 迭代  113 次\n",
      "loss function =  79.24693605484191 迭代  114 次\n",
      "loss function =  77.07155493663538 迭代  115 次\n"
     ]
    }
   ],
   "source": [
    "random.seed(33)\n",
    "gradient_descent(0.25)"
   ]
  },
  {
   "cell_type": "markdown",
   "metadata": {},
   "source": [
    "最后的结果停留在78左右。其中当learning rate = 0.75时，迭代次数最少"
   ]
  },
  {
   "cell_type": "markdown",
   "metadata": {},
   "source": [
    "下面将loss function 改成 $$ f = \\frac{\\sum_{i=1}^{n}\\mid(y_i-\\widehat{y})\\mid}{n} $$ 试试第二种方法"
   ]
  },
  {
   "cell_type": "code",
   "execution_count": 429,
   "metadata": {},
   "outputs": [],
   "source": [
    "def loss_function_2nd(f,y):\n",
    "    return reduce(lambda x,y:x+y,[abs(y[i]-f[i])for i in range(len(y))])"
   ]
  },
  {
   "cell_type": "code",
   "execution_count": 434,
   "metadata": {},
   "outputs": [
    {
     "name": "stdout",
     "output_type": "stream",
     "text": [
      "loss function =  92667.42500000009 迭代  2 次\n",
      "loss function =  71275.22500000008 迭代  3 次\n",
      "loss function =  63253.15 迭代  4 次\n",
      "loss function =  58267.075 迭代  13 次\n",
      "loss function =  39836.95000000002 迭代  14 次\n",
      "loss function =  7918.255000000006 迭代  15 次\n",
      "loss function =  7754.619999999996 迭代  17 次\n",
      "loss function =  4794.989000000003 迭代  42 次\n",
      "loss function =  2549.974000000002 迭代  44 次\n",
      "loss function =  2324.7719999999977 迭代  62 次\n",
      "loss function =  2322.250999999999 迭代  801 次\n"
     ]
    }
   ],
   "source": [
    "i = 0\n",
    "random.seed(2018)\n",
    "k = random.randint(-100,100)\n",
    "b = random.randint(-100,100)\n",
    "direction = {'first':[1,1],'second':[1,-1],'thrid':[-1,1],'forth':[-1,-1]}\n",
    "dirct = random.choice([i for i in direction.keys()])\n",
    "\n",
    "while True:\n",
    "    i = i+1\n",
    "    k = k + direction[dirct][0]*random.randint(0,10)\n",
    "    b = b + direction[dirct][1]*random.randint(0,10)\n",
    "    f = k*X[:,5]+b\n",
    "    socre = loss_function_2nd(f,y)\n",
    "    if i == 1:min_score = socre\n",
    "    if min_score>socre:\n",
    "        min_score = socre\n",
    "        print('loss function = ',min_score,'迭代 ',i,'次')\n",
    "    else:\n",
    "        dirct = random.choice([i for i in direction.keys()])\n",
    "    \n",
    "    if i >10000: break"
   ]
  },
  {
   "cell_type": "markdown",
   "metadata": {},
   "source": [
    "试了几个随机的结果，都是将loss function 优化到了2000+"
   ]
  },
  {
   "cell_type": "markdown",
   "metadata": {},
   "source": [
    "## 2. Answer following questions: -15 minutes\n",
    "\n",
    "<font size = '2px' color = 'blue'>I finished this tasked right immediately after class. All the questions are clearly illustrated or mentioned in class and they are not difficult to answer. Typing mathmatical formula takes some time for I am still at the begining of learning LaTex </font>\n",
    "\n",
    "\n",
    "###### 1. Why do we need machine learning methods instead of creating a complicated formula?\n"
   ]
  },
  {
   "cell_type": "markdown",
   "metadata": {},
   "source": [
    "<table><tr><td bgcolor=\"cornsilk\"> \n",
    "<font size = '2px'>Answer: </font>\n",
    "\n",
    "<font size = '2px'>Because creating a complicated formula need luck and talent and effort. Ecept some geniuses, not many people can achieve this goal. Also, some problems pattern(formula) are too hard to find by human. Using machine to dicover the optimal function from large amount of data for us is more applicable today.</font>\n",
    "</td></tr></table>"
   ]
  },
  {
   "cell_type": "markdown",
   "metadata": {},
   "source": [
    "###### 2.  Wha't's the disadvantages of `the 1st Random Choosen` methods in our course? "
   ]
  },
  {
   "cell_type": "markdown",
   "metadata": {},
   "source": [
    "<table><tr><td bgcolor=\"cornsilk\"> \n",
    "<font size = '2px'>Answer: </font>\n",
    "\n",
    "<font size = '2px'>It has no direction of updates, every updates direction is chosen by random and cannot inherit efficient direction in history.We have to wait the program to find the right direction by chances. Therefore, it is very time-consuming, especially when number of variables gets larger and larger(less chances of finding the right direction when choices increase)  </font>\n",
    "</td></tr></table>"
   ]
  },
  {
   "cell_type": "markdown",
   "metadata": {},
   "source": [
    "###### 3. Is the `2nd method supervised direction` better than 1st one?  What's the disadvantages of `the 2nd supversied directin` method? "
   ]
  },
  {
   "cell_type": "markdown",
   "metadata": {},
   "source": [
    "<table><tr><td bgcolor=\"cornsilk\"> \n",
    "<font size = '2px'>Answer: </font>\n",
    "\n",
    "<font size = '2px'>Yes, the 2nd method is better than the 1st one. First of all,it does not choose direction to update randomly because it identify the total direction initailly and will insist on one direction when it finds it useful. It can inherit the right direction when it finds it. Keep going on the right direction. That's why it can be much more efficient than the 1st one. </font>\n",
    "    \n",
    "<font size = '2px'>However, when it has not found the right direction. It still has to choose direction randomly. Although now it has some limited and concrete choice of direction to choose, it could still be time-consuming when the number of variables gets larger, which increase the choices and less the chances of choosing the right direction. </font>\n",
    "    \n",
    "Two parameter $a_0$ and $a_1$ \n",
    "$$\\left\\lgroup\\begin{matrix}+1 & -1 \\cr +1 & +1 \\cr -1 & +1 \\cr -1 & -1\\end{matrix}\\right\\rgroup_{4*2}$$\n",
    "\n",
    "N parameter $a_0 ... a_n$ \n",
    "$$\\left\\lgroup\\begin{matrix}+1 & ... & -1 \\cr \\vdots & ... &  \\vdots \\cr \\vdots & ... & \\vdots \\cr -1 & ... & -1\\end{matrix}\\right\\rgroup_{n^2*n}$$    \n",
    "    \n",
    "    \n",
    "We could see when parameters increase, the chance of choosing the right row(direction) decrease exponentially. \n",
    "</td></tr></table>"
   ]
  },
  {
   "cell_type": "markdown",
   "metadata": {},
   "source": [
    "###### 4. Why do we use `Derivative / Gredient` to fit a target function? "
   ]
  },
  {
   "cell_type": "markdown",
   "metadata": {},
   "source": [
    "<table><tr><td bgcolor=\"cornsilk\"> \n",
    "<font size = '2px'>Answer: </font>\n",
    "\n",
    "<font size = '2px'>Because Gredient indicates the fastest increase and decrease direction of a function at one particular point. Our ultimate goal is to choosing a set of parameters to minimized the loss function $$loss = \\frac{\\sum_{i=1}^{n}(y_i-\\widehat{y})^2}{n}$$ </font>\n",
    "    \n",
    "    \n",
    "<font size = '2px'>Where the part $(y_i-\\widehat{y})^2$ can be expressed as a function represented by parameter $a_0 ... a_n$ </font>\n",
    "    \n",
    "<font size = '2px'>Hence taking the partial differentiation of $a_0 ... a_n$    $$f_{a_i}=(\\frac{\\partial f}{\\partial{a_i}})$$ </font>\n",
    "    \n",
    "<font size = '2px'>Is the decrease or increase direction at a particular point $(x_{0_i}...x_{n_i})$ </font>\n",
    "\n",
    "<font size = '2px'>Knowing the increase or decrease direction of the loss function, we could choose that to lower down our loss score  </font>\n",
    "</td></tr></table>"
   ]
  },
  {
   "cell_type": "markdown",
   "metadata": {},
   "source": [
    "###### 5. In the words 'Gredient Descent', what's the `Gredient` and what's the `Descent`?"
   ]
  },
  {
   "cell_type": "markdown",
   "metadata": {},
   "source": [
    "<table><tr><td bgcolor=\"cornsilk\"> \n",
    "<font size = '2px'>Answer: </font>\n",
    "\n",
    "<font size = '2px'>Gredient is the partial derivatives of the loss function  $$loss = \\frac{\\sum_{i=1}^{n}(y_i-\\widehat{y})^2}{n}$$ </font>\n",
    "    \n",
    "    \n",
    "\n",
    "    \n",
    "<font size = '2px'>Gredient   $$f_{a_i}=(\\frac{\\partial f}{\\partial{a_i}})$$ </font>\n",
    "    \n",
    "<font size = '2px'>Descent means we should choose the direction that lower down the loss function, make the loss function \"Descent\"\n",
    "\n",
    "</td></tr></table>"
   ]
  },
  {
   "cell_type": "markdown",
   "metadata": {},
   "source": [
    "###### 6. What's the advantages of `the 3rd gradient descent method` compared to the previous methods?"
   ]
  },
  {
   "cell_type": "markdown",
   "metadata": {},
   "source": [
    "<table><tr><td bgcolor=\"cornsilk\"> \n",
    "<font size = '2px'>Answer: </font>\n",
    "\n",
    "<font size = '2px'>Using Gredient, we could clearly know which direction we should choose to update instead of randomly search. Every update is efficent. </font>\n",
    "\n",
    "</td></tr></table>"
   ]
  },
  {
   "cell_type": "markdown",
   "metadata": {},
   "source": [
    "###### 7. Using the simple words to describe: What's the machine leanring."
   ]
  },
  {
   "cell_type": "markdown",
   "metadata": {},
   "source": [
    "<table><tr><td bgcolor=\"cornsilk\"> \n",
    "<font size = '2px'>Answer: </font>\n",
    "\n",
    "<font size = '2px'>Machine learn from data to generate an optimal function for a problem using algorithm</font>\n",
    "\n",
    "</td></tr></table>"
   ]
  },
  {
   "cell_type": "markdown",
   "metadata": {},
   "source": [
    "## 3. Finish the search problem"
   ]
  },
  {
   "cell_type": "markdown",
   "metadata": {},
   "source": [
    "Please using the search policy to implement an agent. This agent receives two input, one is @param start station and the other is @param destination. Your agent should give the optimal route based on Beijing Subway system. "
   ]
  },
  {
   "cell_type": "markdown",
   "metadata": {},
   "source": [
    "> Deadline: 2019-July-13\n",
    "\n",
    ">Submit: Submit the source code and result to github. \n",
    "\n"
   ]
  },
  {
   "cell_type": "markdown",
   "metadata": {},
   "source": [
    "![](https://timgsa.baidu.com/timg?image&quality=80&size=b9999_10000&sec=1562414356407&di=b57814aafd215bb8b8d9d8cd37c573d6&imgtype=0&src=http%3A%2F%2Fcli.clewm.net%2Ffile%2F2015%2F03%2F24%2F174ed60082b8422ac0636cfd3efb9e7f.jpg)"
   ]
  },
  {
   "cell_type": "markdown",
   "metadata": {},
   "source": [
    "#### Dataflow: "
   ]
  },
  {
   "cell_type": "markdown",
   "metadata": {},
   "source": [
    "##### 2.\tPreprocessing data from page source.\n",
    "\n",
    "> a.\tGet web page source from: https://baike.baidu.com/item/%E5%8C%97%E4%BA%AC%E5%9C%B0%E9%93%81/408485\n",
    "\n",
    "> b.\tBased on the page source gotten from url. You may need some more preprocessing of the page. \n",
    "\n",
    "> c.\tthe Regular Expression you may need to process the text information.\n",
    "\n",
    "> d.\tYou may need @package networkx, @package matplotlib to visualize data. \n",
    "\n",
    "> e.\tYou should build a dictionary or graph which could represent the connection information of Beijing subway routes. \n",
    "\n",
    "> f.\tYou may need the defaultdict, set data structures to implement this procedure. "
   ]
  },
  {
   "cell_type": "markdown",
   "metadata": {},
   "source": [
    "## Use web crawler to request the main webpage -30mintues\n",
    "<font size = '2px' color = 'blue'> I got ssl Error when I try to use the requests.get(). I spend most of the time debuging and finding suggestion online. I find including $verfiy = False$ sovle the problem but I forgot to paste the url of that answer. I should be more conscious of taking debug note next time. "
   ]
  },
  {
   "cell_type": "code",
   "execution_count": 277,
   "metadata": {},
   "outputs": [],
   "source": [
    "import os\n",
    "import re\n",
    "import matplotlib.pyplot as plt\n",
    "import requests\n",
    "import warnings\n",
    "import googlemaps\n",
    "import math\n",
    "warnings.filterwarnings(\"ignore\")"
   ]
  },
  {
   "cell_type": "code",
   "execution_count": 2,
   "metadata": {},
   "outputs": [],
   "source": [
    "url = 'https://baike.baidu.com/item/%E5%8C%97%E4%BA%AC%E5%9C%B0%E9%93%81/408485'"
   ]
  },
  {
   "cell_type": "code",
   "execution_count": 3,
   "metadata": {},
   "outputs": [],
   "source": [
    "headers = {'user-agent':'Mozilla/5.0 (Macintosh; Intel Mac OS X 10_14_3) AppleWebKit/537.36 (KHTML, like Gecko) Chrome/74.0.3729.169 Safari/537.36'}"
   ]
  },
  {
   "cell_type": "code",
   "execution_count": 4,
   "metadata": {},
   "outputs": [],
   "source": [
    "response = requests.get(url,headers=headers,verify=False)"
   ]
  },
  {
   "cell_type": "code",
   "execution_count": 5,
   "metadata": {},
   "outputs": [],
   "source": [
    "rep = response.content.decode()"
   ]
  },
  {
   "cell_type": "markdown",
   "metadata": {},
   "source": [
    "## Use regular expression to match the station name for each subway line-5.5hours\n",
    "<br/>\n",
    "<font size = '2px' color = 'blue'> I am not so familar with regular expression and that's why I encountered so much problems during the process. </font>\n",
    "<br/>\n",
    "<br/>\n",
    "<font size = '2px' color = 'blue'>The biggest error I made is to try to match all the station from different websites usign only one regular expression without any parsing. That made me crazy of trying to create a genius regular expression to sovle the problem at one line, which is impossible for me. </font>\n",
    "<br/>\n",
    "<br/>\n",
    "<font size = '2px' color = 'blue'>Gradually, I find parsing the website into different small section could make the job done much more easier. I started to get the essence of matching is to limit the scope of mathch at first and then limit it further. </font>\n",
    "<br/>\n",
    "<br/>\n",
    "<font size = '2px' color = 'blue'>This time, I left some notes about my thinking during the problem-sovling process, which could remind me of what mistakes to avoid next time </font>"
   ]
  },
  {
   "cell_type": "markdown",
   "metadata": {},
   "source": [
    "#### Match the href link in the first main page"
   ]
  },
  {
   "cell_type": "code",
   "execution_count": 6,
   "metadata": {},
   "outputs": [],
   "source": [
    "pattern = re.compile(r'<a target=_blank href=\"(.*?)\">(北京地铁[\\w\\d]{0,3}线)</a>')"
   ]
  },
  {
   "cell_type": "code",
   "execution_count": 7,
   "metadata": {},
   "outputs": [],
   "source": [
    "matches = pattern.finditer(rep)"
   ]
  },
  {
   "cell_type": "markdown",
   "metadata": {},
   "source": [
    "不知道为什么，就是选不到7号线。。。。明明匹配完全符合啊。\n",
    "查看了一下rep里面的信息，发现根本没有关于7号线的链接，但是网页端确有。。\n",
    "待会儿自己补上没查找到的线路吧\n",
    "\n",
    "解决了--原来来是正则表达式的贪婪模式下尽可能多的匹配，出现了无视我规则的情况\n",
    "最好是分段进行正则匹配，统一正则匹配很难用一条指令完成所有可能情况的匹配"
   ]
  },
  {
   "cell_type": "markdown",
   "metadata": {},
   "source": [
    "#### Construct chirdlink for further request and match/"
   ]
  },
  {
   "cell_type": "code",
   "execution_count": 8,
   "metadata": {},
   "outputs": [],
   "source": [
    "\n",
    "linedic = {}\n",
    "for match in matches:\n",
    "    childurl = 'https://baike.baidu.com'+ match.group(1)\n",
    "    linename = match.group(2)\n",
    "    linedic[linename]=childurl\n"
   ]
  },
  {
   "cell_type": "markdown",
   "metadata": {},
   "source": [
    "#### Match the subway station in different pages.\n",
    "######  Parsing pages into smaller section and then use simple regular expresssion is much more efficient."
   ]
  },
  {
   "cell_type": "code",
   "execution_count": 9,
   "metadata": {},
   "outputs": [],
   "source": [
    "patternselect = re.compile(r'车站名称')\n",
    "patternselectend = re.compile(r'</table')\n",
    "patternname = re.compile(r'[0-9]?[\\u4e00-\\u9fa5]{2,}站')\n",
    "# patternfinal = re.compile(r'[\\u4e00-\\u9fa5]+')\n",
    "bigdic = {}\n",
    "page = 0\n",
    "for key,value in linedic.items():\n",
    "    s_url = value\n",
    "    s_rep = requests.get(s_url,headers=headers, verify =False)\n",
    "    content = s_rep.content.decode()\n",
    "    s_match = patternselect.finditer(content)\n",
    "    for s in s_match:\n",
    "        begin  = s.span()[0]\n",
    "        break\n",
    "    content = content[begin:]\n",
    "    s_matchend = patternselectend.finditer(content)\n",
    "    for i in s_matchend:\n",
    "        end  = i.span()[0]\n",
    "        break\n",
    "    \n",
    "    content = content[:end]\n",
    "    new_match = patternname.finditer(content)\n",
    "    stationlist= []\n",
    "    for n in new_match:\n",
    "        s_name =n.group(0)\n",
    "        stationlist.append(s_name)\n",
    "#         except:\n",
    "#             s_name =n.group(0)\n",
    "#         final = patternfinal.finditer(s_name)\n",
    "#         for f in final:\n",
    "#             stationlist.append(f.group(0))\n",
    "    bigdic[key]=stationlist\n"
   ]
  },
  {
   "cell_type": "markdown",
   "metadata": {},
   "source": [
    "获取到了所有线路的车站名字，但是还有一些是匹配不当的结果混进去了。要筛选出来"
   ]
  },
  {
   "cell_type": "code",
   "execution_count": 46,
   "metadata": {
    "scrolled": false
   },
   "outputs": [
    {
     "data": {
      "text/plain": [
       "dict_keys(['北京地铁1号线', '北京地铁13号线', '北京地铁八通线', '北京地铁5号线', '北京地铁8号线', '北京地铁10号线', '北京地铁机场线', '北京地铁4号线', '北京地铁15号线', '北京地铁昌平线', '北京地铁大兴线', '北京地铁房山线', '北京地铁亦庄线', '北京地铁9号线', '北京地铁6号线', '北京地铁14号线', '北京地铁7号线', '北京地铁16号线', '北京地铁西郊线', '北京地铁S1线', '北京地铁燕房线', '北京地铁2号线'])"
      ]
     },
     "execution_count": 46,
     "metadata": {},
     "output_type": "execute_result"
    }
   ],
   "source": [
    "bigdic.keys()"
   ]
  },
  {
   "cell_type": "markdown",
   "metadata": {},
   "source": [
    "## Using Google map Geocode API to find the coordinate of each subway -2.5hours \n",
    "<br/>\n",
    "<font size = '2px' color = 'blue'>First, setting API key as the envrionmental variable brought me a lot of problem,such as jupyterLab cannot find the environmental variables and I have to use juptyer notebook.Set the envrionmental variable in ~/.bash_profile works for me, instead of /etc/profile, which could not be sourced. </font>\n",
    "<br/>\n",
    "<br/>\n",
    "<font size = '2px' color = 'blue'>Using the Google map API also brought some probelms. I accidentaly reach the maximal query limit and was refused so many times but don't know what was going on. To solve this, I have to create a new API KEY and set time.sleep for not irritating the google sever.  </font>\n"
   ]
  },
  {
   "cell_type": "code",
   "execution_count": 10,
   "metadata": {},
   "outputs": [],
   "source": [
    "api_key = os.getenv(\"MYKEY\")"
   ]
  },
  {
   "cell_type": "code",
   "execution_count": 12,
   "metadata": {},
   "outputs": [],
   "source": [
    "gm = googlemaps.Client(key=api_key)"
   ]
  },
  {
   "cell_type": "markdown",
   "metadata": {},
   "source": [
    "google api 如果查找错误地点会查找很久，所以可以用这个做错误地点的标示符号，设置查找时间，如果超过这个查找时间，直接pass掉这个地点"
   ]
  },
  {
   "cell_type": "code",
   "execution_count": 29,
   "metadata": {},
   "outputs": [],
   "source": [
    "import time\n",
    "import timeout_decorator"
   ]
  },
  {
   "cell_type": "code",
   "execution_count": 31,
   "metadata": {
    "scrolled": false
   },
   "outputs": [],
   "source": [
    "@timeout_decorator.timeout(5)\n",
    "def geocoding(name):\n",
    "    geocode_result = gm.geocode(name)[0]\n",
    "    address = geocode_result['geometry']['location']\n",
    "    return address"
   ]
  },
  {
   "cell_type": "code",
   "execution_count": 39,
   "metadata": {
    "scrolled": true
   },
   "outputs": [],
   "source": [
    "largedic ={}\n",
    "for key, value in bigdic.items():\n",
    "    largedic[key] ={} \n",
    "    for name in value:\n",
    "        largedic[key][name]=''\n",
    "        try:\n",
    "            address = geocoding(name)\n",
    "            lat = address['lat']\n",
    "            lon = address['lng']\n",
    "            lonlat =[lon,lat]\n",
    "        except:\n",
    "            lonlat = 0 #对于google map api找不到的站，先标为0，之后手动进行添加\n",
    "        largedic[key][name]=lonlat\n",
    "#         print(largedic)\n",
    "        time.sleep(2)\n",
    "    time.sleep(2)    "
   ]
  },
  {
   "cell_type": "markdown",
   "metadata": {},
   "source": [
    "## Manually correct and clean the wrong coordinate -1hours "
   ]
  },
  {
   "cell_type": "markdown",
   "metadata": {},
   "source": [
    "手动添加剩下的站点，\n",
    "\n",
    "对照高德地图地铁站：http://map.amap.com/subway/index.html?&1100\n",
    "\n",
    "和百度坐标拾取系统：http://api.map.baidu.com/lbsapi/getpoint/index.html\n",
    "\n",
    "将不存在和已经废弃的站点或者目前没有在高德地图上而google api又查找不到的站点，删除。\n",
    "\n",
    "后悔用了谷歌api，但是人在国外用注册不了百度api，而且发现时为时已晚"
   ]
  },
  {
   "cell_type": "markdown",
   "metadata": {},
   "source": [
    "创建一个函数，对于所有值为0的匹配错误的站点进行删除操作"
   ]
  },
  {
   "cell_type": "code",
   "execution_count": 60,
   "metadata": {},
   "outputs": [],
   "source": [
    "def dropstation(linename):\n",
    "    droplist= []\n",
    "    for key,value in largedic[linename].items():\n",
    "        if value == 0:\n",
    "            droplist.append(key)\n",
    "    for i in droplist:\n",
    "        largedic[linename].pop(i,None)"
   ]
  },
  {
   "cell_type": "code",
   "execution_count": 50,
   "metadata": {},
   "outputs": [],
   "source": [
    "#地铁十三号线：value 为0 的站全部为匹配错误的站\n",
    "dropstation('北京地铁13号线')\n",
    "#地铁5号线：value 为0 的站全部为匹配错误的站\n",
    "dropstation('北京地铁5号线')\n",
    "#地铁10号线：value 为0 的站全部为匹配错误的站\n",
    "dropstation('北京地铁10号线')\n",
    "#地铁机场号线：value 为0 的站全部为匹配错误的站，删除一个重复站点\n",
    "largedic['北京地铁机场线'].pop('2号航站',None)\n",
    "dropstation('北京地铁机场线')\n",
    "#地铁4号线：value 为0 的站全部为匹配错误的站\n",
    "dropstation('北京地铁4号线')\n",
    "#地铁9号线：value 为0 的站全部为匹配错误的站\n",
    "dropstation('北京地铁9号线')\n",
    "#地铁7号线：value 为0 的站全部为匹配错误的站\n",
    "dropstation('北京地铁7号线'）\n",
    "#地铁2号线：value 为0 的站全部为匹配错误的站\n",
    "dropstation('北京地铁2号线')\n",
    "largedic['北京地铁2号线']['和平门站']=[116.390619,39.906362]\n",
    "#地铁8号线\n",
    "largedic['北京地铁8号线']['大红门南站']=[116.407454,39.842626]\n",
    "largedic['北京地铁8号线']['和义站']=[116.408508,39.821382]\n",
    "largedic['北京地铁8号线']['东高地站']=[116.415686,39.811433]\n",
    "largedic['北京地铁8号线']['火箭万源站']=[116.425129,39.805336]\n",
    "largedic['北京地铁8号线']['瀛海站']=[116.455615,39.766756]\n",
    "largedic['北京地铁8号线'].pop('瀛海南站',None)\n",
    "largedic['北京地铁8号线'].pop('金鱼胡同站',None)\n",
    "#地铁15号线\n",
    "largedic['北京地铁15号线']['孙河站']=[116.54104,40.051264]\n",
    "#地铁昌平线\n",
    "largedic['北京地铁昌平线']['沙河站']=[116.295058,40.154693]\n",
    "#地铁房山线\n",
    "largedic['北京地铁房山线']['阎村东站']=[116.107001,39.734677]\n",
    "dropstation('北京地铁房山线')\n",
    "#地铁亦庄线\n",
    "largedic['北京地铁亦庄线']['亦庄火车站']=[116.608099,39.818275]\n",
    "dropstation('北京地铁亦庄线')\n",
    "#地铁6号线\n",
    "largedic['北京地铁6号线']['杨庄站']=[116.194192,39.934174]\n",
    "largedic['北京地铁6号线']['西黄村站']=[116.213386,39.939411]\n",
    "largedic['北京地铁6号线']['田村站']=[116.259357,39.935623]\n",
    "#地铁14号线\n",
    "largedic['北京地铁14号线']['景泰站']=[116.417164,39.871443]\n",
    "largedic['北京地铁14号线']['北工大西门站']=[116.484017,39.880747]\n",
    "dropstation('北京地铁14号线')\n",
    "#地铁16号线\n",
    "largedic['北京地铁16号线']['屯佃站']=[116.222442,40.074106]\n",
    "dropstation('北京地铁16号线')\n",
    "#地铁西郊线\n",
    "largedic['北京地铁西郊线']['茶棚站']=[116.25461,39.988011]\n",
    "largedic['北京地铁西郊线']['万安站']=[116.238603,39.989737]\n",
    "dropstation('北京地铁西郊线')\n",
    "#地铁S1号线\n",
    "largedic['北京地铁S1线']['四道桥站']=[116.140356,39.922119]\n",
    "largedic['北京地铁S1线']['桥户营站']=[116.132271,39.918355]\n",
    "largedic['北京地铁S1线']['上岸站']=[116.128714,39.911139]\n",
    "largedic['北京地铁S1线']['小园站']=[116.121001,39.896156]\n",
    "largedic['北京地铁S1线']['石厂站']=[116.106975,39.895137]\n",
    "#地铁燕房线\n",
    "largedic['北京地铁燕房线']['阎村东站']=[116.107001,39.734677]\n",
    "largedic['北京地铁燕房线']['阎村站']=[116.086807,39.722483]\n",
    "largedic['北京地铁燕房线']['星城站']=[116.067772,39.719734]\n",
    "largedic['北京地铁燕房线']['大石河东站']=[116.046084,39.716115]\n",
    "largedic['北京地铁燕房线']['马各庄站']=[116.023054,39.711154]\n",
    "dropstation('北京地铁燕房线')\n",
    "#地铁一号线\n",
    "largedic['北京地铁1号线']['南礼士路站']=[116.359221,39.912979]\n",
    "largedic['北京地铁1号线']['四惠东站']=[116.522347,39.914943]\n",
    "largedic['北京地铁1号线']['国贸站']=[116.467523,39.914435]\n",
    "largedic['北京地铁1号线'].pop('花庄站',None)\n",
    "largedic['北京地铁1号线'].pop('高碑店站',None)\n",
    "dropstation('北京地铁1号线')"
   ]
  },
  {
   "cell_type": "markdown",
   "metadata": {},
   "source": [
    "剔除outlier站点，这些不是地铁站，但是不知道为什么在百度网页上面，而且还给谷歌地图找到了坐标。或者是真实的地铁站，但是谷歌地图找错了坐标。啊google！！！！"
   ]
  },
  {
   "cell_type": "code",
   "execution_count": 249,
   "metadata": {},
   "outputs": [],
   "source": [
    "for key, value in largedic.items():\n",
    "    dropstation=['学院桥站','老城区站','东管头站','小马庄站','环球影城站']\n",
    "    changecoord={'小红门站':[116.390619,39.906362],'植物园站':[116.221373,39.999254],\n",
    "    '国贸站':[116.467523,39.914435],'石门站':[116.647499,40.136314],'德茂站':[116.448258,39.778312],\n",
    "     '动物园站':[116.345204,39.943923],'香山站':[116.211114,39.999821],'新街口站':[116.374132,39.94658],\n",
    "     '高碑店站':[116.538,39.915798],'桥湾站':[116.414901,39.899001]}\n",
    "    \n",
    "    for i in dropstation:\n",
    "        if i in largedic[key]:\n",
    "            largedic[key].pop(i,None)\n",
    "    \n",
    "    for c_name,c_coord in changecoord.items():\n",
    "        if c_name in largedic[key]:\n",
    "            largedic[key][c_name]=c_coord\n",
    "    "
   ]
  },
  {
   "cell_type": "code",
   "execution_count": 250,
   "metadata": {},
   "outputs": [
    {
     "data": {
      "text/plain": [
       "{'北京地铁1号线': {'高井站': [116.143944, 39.949768],\n",
       "  '福寿岭站': [116.172241, 39.939926],\n",
       "  '苹果园站': [116.177864, 39.926261],\n",
       "  '古城站': [116.190296, 39.90743399999999],\n",
       "  '八角游乐园站': [116.212684, 39.907442],\n",
       "  '八宝山站': [116.235948, 39.90744],\n",
       "  '玉泉路站': [116.25299, 39.907414],\n",
       "  '五棵松站': [116.273987, 39.907456],\n",
       "  '万寿路站': [116.294875, 39.9077482],\n",
       "  '公主坟站': [116.30992, 39.907447],\n",
       "  '军事博物馆站': [116.321671, 39.907464],\n",
       "  '木樨地站': [116.337583, 39.907379],\n",
       "  '南礼士路站': [116.359221, 39.912979],\n",
       "  '复兴门站': [116.357641, 39.907252],\n",
       "  '西单站': [116.374253, 39.907422],\n",
       "  '天安门西站': [116.391278, 39.90747200000001],\n",
       "  '天安门东站': [116.401216, 39.90778],\n",
       "  '王府井站': [116.41148, 39.90807600000001],\n",
       "  '东单站': [116.417935, 39.908322],\n",
       "  '建国门站': [116.435783, 39.908483],\n",
       "  '永安里站': [116.450372, 39.908465],\n",
       "  '国贸站': [116.467523, 39.914435],\n",
       "  '大望路站': [116.476226, 39.908317],\n",
       "  '四惠站': [116.495516, 39.908785],\n",
       "  '四惠东站': [116.522347, 39.914943],\n",
       "  '传媒大学站': [116.554692, 39.90914799999999],\n",
       "  '双桥站': [116.576697, 39.910282],\n",
       "  '管庄站': [116.599042, 39.909188],\n",
       "  '八里桥站': [116.618532, 39.905966],\n",
       "  '通州北苑站': [116.637244, 39.903708],\n",
       "  '果园站': [116.646565, 39.893292],\n",
       "  '九棵树站': [116.657394, 39.890472],\n",
       "  '梨园站': [116.668443, 39.883779],\n",
       "  '临河里站': [116.678722, 39.875435],\n",
       "  '土桥站': [116.686439, 39.871981]},\n",
       " '北京地铁13号线': {'西直门站': [116.355425, 39.94048],\n",
       "  '清华东路西口站': [116.335121, 39.99715399999999],\n",
       "  '明光桥西站': [116.3543726, 39.9587305],\n",
       "  '大钟寺站': [116.345092, 39.966674],\n",
       "  '知春路站': [116.3347996, 39.9763719],\n",
       "  '五道口站': [116.337851, 39.992929],\n",
       "  '上地站': [116.320205, 40.03298100000001],\n",
       "  '清河站': [116.321448, 40.0451684],\n",
       "  '西二旗站': [116.30601, 40.053062],\n",
       "  '龙泽站': [116.319303, 40.070887],\n",
       "  '回龙观站': [116.336275, 40.070794],\n",
       "  '霍营站': [116.360322, 40.071848],\n",
       "  '建材城东路站': [116.3745594, 40.0616317],\n",
       "  '立水桥站': [116.412244, 40.052883],\n",
       "  '北苑站': [116.434371, 40.043104],\n",
       "  '望京西站': [116.450934, 39.995861],\n",
       "  '芍药居站': [116.435914, 39.977636],\n",
       "  '光熙门站': [116.431805, 39.968378],\n",
       "  '柳芳站': [116.43274, 39.958318],\n",
       "  '东直门站': [116.433552, 39.941098]},\n",
       " '北京地铁八通线': {'四惠站': [116.495516, 39.908785],\n",
       "  '四惠东站': [116.515664, 39.90849499999999],\n",
       "  '高碑店站': [116.538, 39.915798],\n",
       "  '传媒大学站': [116.554692, 39.90914799999999],\n",
       "  '双桥站': [116.576697, 39.910282],\n",
       "  '管庄站': [116.599042, 39.909188],\n",
       "  '八里桥站': [116.618532, 39.905966],\n",
       "  '通州北苑站': [116.637244, 39.903708],\n",
       "  '果园站': [116.646565, 39.893292],\n",
       "  '九棵树站': [116.657394, 39.890472],\n",
       "  '梨园站': [116.668443, 39.883779],\n",
       "  '临河里站': [116.678722, 39.875435],\n",
       "  '土桥站': [116.686439, 39.871981],\n",
       "  '施园站': [116.69255, 39.845749]},\n",
       " '北京地铁5号线': {'宋家庄站': [116.428395, 39.845851],\n",
       "  '刘家窑站': [116.422117, 39.857495],\n",
       "  '蒲黄榆站': [116.421661, 39.865593],\n",
       "  '天坛东门站': [116.420832, 39.882547],\n",
       "  '磁器口站': [116.4189158, 39.8930937],\n",
       "  '崇文门站': [116.417042, 39.90106100000001],\n",
       "  '东单站': [116.417935, 39.908322],\n",
       "  '灯市口站': [116.417785, 39.91713499999999],\n",
       "  '东四站': [116.417814, 39.925141],\n",
       "  '张自忠路站': [116.417153, 39.933665],\n",
       "  '北新桥站': [116.416884, 39.940809],\n",
       "  '雍和宫站': [116.417143, 39.949334],\n",
       "  '和平里北街站': [116.418506, 39.958718],\n",
       "  '和平西桥站': [116.417975, 39.968416],\n",
       "  '惠新西街南口站': [116.41752, 39.97701199999999],\n",
       "  '惠新西街北口站': [116.417047, 39.987863],\n",
       "  '大屯路东站': [116.417377, 40.003841],\n",
       "  '北苑路北站': [116.418126, 40.030392],\n",
       "  '立水桥南站': [116.414551, 40.041943],\n",
       "  '立水桥站': [116.412244, 40.052883],\n",
       "  '天通苑南站': [116.4127545, 40.0665093],\n",
       "  '天通苑站': [116.412795, 40.075255],\n",
       "  '天通苑北站': [116.412973, 40.083617],\n",
       "  '平西府站': [116.412338, 40.103367],\n",
       "  '东沙各庄站': [116.407879, 40.12855500000001],\n",
       "  '大柳树站': [116.512954, 39.87765],\n",
       "  '小汤山站': [116.400955, 40.175785]},\n",
       " '北京地铁8号线': {'朱辛庄站': [116.313662, 40.104346],\n",
       "  '育知路站': [116.327896, 40.080257],\n",
       "  '平西府站': [116.412338, 40.103367],\n",
       "  '回龙观东大街站': [116.363025, 40.081154],\n",
       "  '霍营站': [116.360322, 40.071848],\n",
       "  '育新站': [116.347271, 40.060384],\n",
       "  '西小口站': [116.351658, 40.046845],\n",
       "  '永泰庄站': [116.35458, 40.037728],\n",
       "  '林萃桥站': [116.372998, 40.021906],\n",
       "  '森林公园南门站': [116.392764, 40.010234],\n",
       "  '奥林匹克公园站': [116.393295, 40.002253],\n",
       "  '奥体中心站': [116.393742, 39.985803],\n",
       "  '北土城站': [116.394193, 39.976953],\n",
       "  '安华桥站': [116.394608, 39.96863],\n",
       "  '安德里北街站': [116.394988, 39.958707],\n",
       "  '鼓楼大街站': [116.393776, 39.948972],\n",
       "  '什刹海站': [116.396247, 39.937563],\n",
       "  '南锣鼓巷站': [116.4133492, 39.9334746],\n",
       "  '中国美术馆站': [116.410775, 39.924391],\n",
       "  '王府井站': [116.41148, 39.90807600000001],\n",
       "  '前门站': [116.397875, 39.90019400000001],\n",
       "  '珠市口站': [116.39841, 39.891279],\n",
       "  '天桥站': [116.395331, 39.883495],\n",
       "  '永定门外站': [116.398559, 39.868334],\n",
       "  '木樨园站': [116.398865, 39.858707],\n",
       "  '海户屯站': [116.402885, 39.852478],\n",
       "  '大红门站': [116.379377, 39.828963],\n",
       "  '大红门南站': [116.407454, 39.842626],\n",
       "  '和义站': [116.408508, 39.821382],\n",
       "  '东高地站': [116.415686, 39.811433],\n",
       "  '火箭万源站': [116.425129, 39.805336],\n",
       "  '五福堂站': [116.4230083, 39.7854031],\n",
       "  '德茂站': [116.448258, 39.778312],\n",
       "  '瀛海站': [116.455615, 39.766756]},\n",
       " '北京地铁10号线': {'巴沟站': [116.293727, 39.974179],\n",
       "  '苏州街站': [116.306188, 39.977156],\n",
       "  '海淀黄庄站': [116.317558, 39.975999],\n",
       "  '知春里站': [116.32862, 39.976332],\n",
       "  '知春路站': [116.3347996, 39.9763719],\n",
       "  '西土城站': [116.353832, 39.9762],\n",
       "  '牡丹园站': [116.369938, 39.976336],\n",
       "  '健德门站': [116.381353, 39.976723],\n",
       "  '北土城站': [116.394193, 39.976953],\n",
       "  '安贞门站': [116.405954, 39.977005],\n",
       "  '惠新西街南口站': [116.41752, 39.97701199999999],\n",
       "  '芍药居站': [116.435914, 39.977636],\n",
       "  '太阳宫站': [116.44751, 39.972747],\n",
       "  '三元桥站': [116.457087, 39.961517],\n",
       "  '亮马桥站': [116.461874, 39.94941000000001],\n",
       "  '农业展览馆站': [116.462114, 39.941341],\n",
       "  '团结湖站': [116.461806, 39.933747],\n",
       "  '呼家楼站': [116.461788, 39.923333],\n",
       "  '金台夕照站': [116.46184, 39.91673],\n",
       "  '国贸站': [116.467523, 39.914435],\n",
       "  '双井站': [116.461834, 39.893512],\n",
       "  '劲松站': [116.461325, 39.884387],\n",
       "  '潘家园站': [116.4485727, 39.8774547],\n",
       "  '十里河站': [116.459118, 39.8658],\n",
       "  '分钟寺站': [116.453712, 39.853817],\n",
       "  '成寿寺站': [116.447531, 39.84587399999999],\n",
       "  '宋家庄站': [116.428395, 39.845851],\n",
       "  '石榴庄站': [116.414097, 39.845918],\n",
       "  '大红门站': [116.379377, 39.828963],\n",
       "  '角门东站': [116.385524, 39.845136],\n",
       "  '角门西站': [116.371154, 39.84585],\n",
       "  '草桥站': [116.351387, 39.845869],\n",
       "  '纪家庙站': [116.329325, 39.848211],\n",
       "  '首经贸站': [116.320202, 39.844463],\n",
       "  '丰台站': [116.289062, 39.84884599999999],\n",
       "  '泥洼站': [116.317917, 40.193607],\n",
       "  '西局站': [116.304405, 39.866477],\n",
       "  '六里桥站': [116.302795, 39.880339],\n",
       "  '莲花桥站': [116.310347, 39.897867],\n",
       "  '公主坟站': [116.30992, 39.907447],\n",
       "  '西钓鱼台站': [116.297614, 39.923785],\n",
       "  '慈寿寺站': [116.295178, 39.933268],\n",
       "  '车道沟站': [116.293818, 39.947923],\n",
       "  '长春桥站': [116.294255, 39.958527],\n",
       "  '火器营站': [116.289058, 39.965938]},\n",
       " '北京地铁机场线': {'东直门站': [116.433552, 39.941098],\n",
       "  '三元桥站': [116.457087, 39.961517],\n",
       "  '3号航站楼站': [116.615797, 40.054517],\n",
       "  '2号航站楼站': [116.593566, 40.07989],\n",
       "  '2号航站': [116.593566, 40.07989]},\n",
       " '北京地铁4号线': {'公益西桥站': [116.37082, 39.837022],\n",
       "  '角门西站': [116.371154, 39.84585],\n",
       "  '马家堡站': [116.371359, 39.853176],\n",
       "  '北京南站': [116.378922, 39.865127],\n",
       "  '陶然亭站': [116.374386, 39.878496],\n",
       "  '菜市口站': [116.374431, 39.889302],\n",
       "  '宣武门站': [116.374314, 39.899723],\n",
       "  '西单站': [116.374253, 39.907422],\n",
       "  '灵境胡同站': [116.373742, 39.916134],\n",
       "  '西四站': [116.373332, 39.924206],\n",
       "  '平安里站': [116.372881, 39.933784],\n",
       "  '新街口站': [116.374132, 39.94658],\n",
       "  '西直门站': [116.355425, 39.94048],\n",
       "  '动物园站': [116.345204, 39.943923],\n",
       "  '国家图书馆站': [116.325043, 39.944614],\n",
       "  '魏公村站': [116.323209, 39.957948],\n",
       "  '人民大学站': [116.321367, 39.966956],\n",
       "  '海淀黄庄站': [116.317558, 39.975999],\n",
       "  '中关村站': [116.329344, 39.98586],\n",
       "  '北京大学东门站': [116.315843, 39.99227399999999],\n",
       "  '圆明园站': [116.30965, 39.99951],\n",
       "  '西苑站': [116.290805, 39.998298],\n",
       "  '北宫门站': [116.277583, 40.002374],\n",
       "  '安河桥北站': [116.26997, 40.012148]},\n",
       " '北京地铁15号线': {'清华东路西口站': [116.335121, 39.99715399999999],\n",
       "  '六道口站': [116.352718, 40.001024],\n",
       "  '北沙滩站': [116.369041, 40.001523],\n",
       "  '奥林匹克公园站': [116.393295, 40.002253],\n",
       "  '安立路站': [116.409699, 40.002878],\n",
       "  '大屯路东站': [116.417377, 40.003841],\n",
       "  '关庄站': [116.428053, 40.001597],\n",
       "  '望京西站': [116.450934, 39.995861],\n",
       "  '望京站': [116.469783, 39.998741],\n",
       "  '望京东站': [116.485704, 40.00334429999999],\n",
       "  '崔各庄站': [116.493088, 40.022427],\n",
       "  '马泉营站': [116.503343, 40.033759],\n",
       "  '孙河站': [116.54104, 40.051264],\n",
       "  '国展站': [116.555125, 40.070009],\n",
       "  '花梨坎站': [116.557601, 40.084418],\n",
       "  '后沙峪站': [116.564183, 40.114078],\n",
       "  '南法信站': [116.609416, 40.128411],\n",
       "  '石门站': [116.647499, 40.136314],\n",
       "  '顺义站': [116.64625, 40.125916],\n",
       "  '俸伯站': [116.700989, 40.133274]},\n",
       " '北京地铁昌平线': {'蓟门桥站': [116.358521, 39.967533],\n",
       "  '西土城站': [116.353832, 39.9762],\n",
       "  '六道口站': [116.352718, 40.001024],\n",
       "  '学清路站': [116.352814, 40.007181],\n",
       "  '上清桥站': [116.352887, 40.022515],\n",
       "  '清河站': [116.321448, 40.0451684],\n",
       "  '西二旗站': [116.30601, 40.053062],\n",
       "  '生命科学园站': [116.294137, 40.094861],\n",
       "  '朱辛庄站': [116.313662, 40.104346],\n",
       "  '巩华城站': [116.293905, 40.131089],\n",
       "  '沙河站': [116.295058, 40.154693],\n",
       "  '沙河高教园站': [116.280363, 40.164663],\n",
       "  '南邵站': [116.287531, 40.207475],\n",
       "  '北邵洼站': [116.284027, 40.221905],\n",
       "  '昌平东关站': [116.258102, 40.221581],\n",
       "  '昌平站': [116.193799, 40.190191],\n",
       "  '昌平北站': [116.233234, 40.23152899999999],\n",
       "  '十三陵景区站': [116.208548, 40.239736],\n",
       "  '昌平西山口站': [116.195698, 40.244631]},\n",
       " '北京地铁大兴线': {'天宫院站': [116.319932, 39.670342],\n",
       "  '生物医药基地站': [116.322244, 39.686616],\n",
       "  '义和庄站': [116.319079, 39.712387],\n",
       "  '黄村火车站': [116.332611, 39.722966],\n",
       "  '黄村西大街站': [116.33263, 39.731768],\n",
       "  '清源路站': [116.332513, 39.742724],\n",
       "  '枣园站': [116.332204, 39.753458],\n",
       "  '高米店南站': [116.331774, 39.763509],\n",
       "  '高米店北站': [116.330787, 39.773547],\n",
       "  '西红门站': [116.328689, 39.7898],\n",
       "  '新宫站': [116.365609, 39.81225999999999],\n",
       "  '公益西桥站': [116.37082, 39.837022],\n",
       "  '角门西站': [116.371154, 39.84585],\n",
       "  '马家堡站': [116.371359, 39.853176],\n",
       "  '北京南站': [116.378922, 39.865127],\n",
       "  '陶然亭站': [116.374386, 39.878496],\n",
       "  '菜市口站': [116.374431, 39.889302],\n",
       "  '宣武门站': [116.374314, 39.899723],\n",
       "  '西单站': [116.374253, 39.907422],\n",
       "  '灵境胡同站': [116.373742, 39.916134],\n",
       "  '西四站': [116.373332, 39.924206],\n",
       "  '平安里站': [116.372881, 39.933784],\n",
       "  '新街口站': [116.374132, 39.94658],\n",
       "  '西直门站': [116.355425, 39.94048],\n",
       "  '动物园站': [116.345204, 39.943923],\n",
       "  '国家图书馆站': [116.325043, 39.944614],\n",
       "  '魏公村站': [116.323209, 39.957948],\n",
       "  '人民大学站': [116.321367, 39.966956],\n",
       "  '海淀黄庄站': [116.317558, 39.975999],\n",
       "  '中关村站': [116.329344, 39.98586],\n",
       "  '北京大学东门站': [116.315843, 39.99227399999999],\n",
       "  '圆明园站': [116.30965, 39.99951],\n",
       "  '西苑站': [116.290805, 39.998298],\n",
       "  '北宫门站': [116.277583, 40.002374],\n",
       "  '安河桥北站': [116.26997, 40.012148]},\n",
       " '北京地铁房山线': {'阎村东站': [116.107001, 39.734677],\n",
       "  '苏庄站': [116.125085, 39.723289],\n",
       "  '良乡南关站': [116.140683, 39.723288],\n",
       "  '良乡大学城西站': [116.156056, 39.723234],\n",
       "  '良乡大学城站': [116.176469, 39.723205],\n",
       "  '良乡大学城北站': [116.183337, 39.729978],\n",
       "  '广阳城站': [116.184959, 39.747974],\n",
       "  '篱笆房站': [116.186371, 39.76493500000001],\n",
       "  '长阳站': [116.212421, 39.763827],\n",
       "  '稻田站': [116.218701, 39.794805],\n",
       "  '大葆台站': [116.291498, 39.807704],\n",
       "  '郭公庄站': [116.313141, 39.812195],\n",
       "  '花乡桥东站': [116.325035, 39.830318],\n",
       "  '首经贸站': [116.320202, 39.844463]},\n",
       " '北京地铁亦庄线': {'宋家庄站': [116.428395, 39.845851],\n",
       "  '肖村站': [116.448335, 39.834321],\n",
       "  '小红门站': [116.390619, 39.906362],\n",
       "  '旧宫站': [116.460884, 39.807108],\n",
       "  '亦庄桥站': [116.480346, 39.802961],\n",
       "  '亦庄文化园站': [116.490676, 39.806886],\n",
       "  '万源街站': [116.507983, 39.805324],\n",
       "  '荣京东街站': [116.51413, 39.794857],\n",
       "  '荣昌东街站': [116.521773, 39.782854],\n",
       "  '同济南路站': [116.5398, 39.772913],\n",
       "  '经海路站': [116.563522, 39.784142],\n",
       "  '次渠南站': [116.581401, 39.795159],\n",
       "  '次渠站': [116.591549, 39.803539],\n",
       "  '亦庄火车站': [116.608099, 39.818275]},\n",
       " '北京地铁9号线': {'郭公庄站': [116.313141, 39.812195],\n",
       "  '丰台科技园站': [116.296991, 39.82532399999999],\n",
       "  '科怡路站': [116.297649, 39.832374],\n",
       "  '丰台南路站': [116.296748, 39.840444],\n",
       "  '丰台东大街站': [116.293994, 39.858712],\n",
       "  '七里庄站': [116.294322, 39.867161],\n",
       "  '六里桥站': [116.302795, 39.880339],\n",
       "  '六里桥东站': [116.315142, 39.886886],\n",
       "  '北京西站': [116.32111, 39.894834],\n",
       "  '军事博物馆站': [116.321671, 39.907464],\n",
       "  '白堆子站': [116.325767, 39.923924],\n",
       "  '白石桥南站': [116.32568, 39.933022],\n",
       "  '国家图书馆站': [116.325043, 39.944614]},\n",
       " '北京地铁6号线': {'金安桥站': [116.161285, 39.924461],\n",
       "  '苹果园站': [116.177864, 39.926261],\n",
       "  '杨庄站': [116.194192, 39.934174],\n",
       "  '西黄村站': [116.213386, 39.939411],\n",
       "  '廖公庄站': [116.222015, 39.93309],\n",
       "  '田村站': [116.259357, 39.935623],\n",
       "  '海淀五路居站': [116.276766, 39.932589],\n",
       "  '慈寿寺站': [116.295178, 39.933268],\n",
       "  '花园桥站': [116.310713, 39.9324],\n",
       "  '白石桥南站': [116.32568, 39.933022],\n",
       "  '二里沟站': [116.333382, 39.935387],\n",
       "  '车公庄西站': [116.344082, 39.932466],\n",
       "  '车公庄站': [116.354424, 39.932365],\n",
       "  '平安里站': [116.372881, 39.933784],\n",
       "  '北海北站': [116.386677, 39.933237],\n",
       "  '南锣鼓巷站': [116.4133492, 39.9334746],\n",
       "  '东四站': [116.417814, 39.925141],\n",
       "  '朝阳门站': [116.434372, 39.922005],\n",
       "  '东大桥站': [116.450323, 39.922887],\n",
       "  '呼家楼站': [116.461788, 39.923333],\n",
       "  '金台路站': [116.478091, 39.92291],\n",
       "  '十里堡站': [116.5082427, 39.9166604],\n",
       "  '青年路站': [116.517161, 39.92831899999999],\n",
       "  '褡裢坡站': [116.563958, 39.924022],\n",
       "  '黄渠站': [116.578184, 39.92419400000001],\n",
       "  '常营站': [116.590083, 39.92736],\n",
       "  '草房站': [116.615574, 39.924477],\n",
       "  '物资学院路站': [116.639561, 39.92402999999999],\n",
       "  '通州北关站': [116.660158, 39.92021099999999],\n",
       "  '通运门站': [116.677139, 39.910031],\n",
       "  '北运河西站': [116.689938, 39.902761],\n",
       "  '北运河东站': [116.703649, 39.902014],\n",
       "  '郝家府站': [116.720442, 39.902402],\n",
       "  '东夏园站': [116.736188, 39.90285],\n",
       "  '潞城站': [116.752501, 39.90142]},\n",
       " '北京地铁14号线': {'张郭庄站': [116.187294, 39.855408],\n",
       "  '园博园站': [116.201611, 39.861361],\n",
       "  '大瓦窑站': [116.24032, 39.85933800000001],\n",
       "  '郭庄子站': [116.253206, 39.864406],\n",
       "  '大井站': [116.275516, 39.865238],\n",
       "  '七里庄站': [116.294322, 39.867161],\n",
       "  '西局站': [116.304405, 39.866477],\n",
       "  '丽泽商务区站': [116.336137, 39.868075],\n",
       "  '北京南站': [116.378922, 39.865127],\n",
       "  '陶然桥站': [116.38779, 39.871263],\n",
       "  '永定门外站': [116.398559, 39.868334],\n",
       "  '景泰站': [116.417164, 39.871443],\n",
       "  '蒲黄榆站': [116.421661, 39.865593],\n",
       "  '方庄站': [116.430504, 39.867332],\n",
       "  '十里河站': [116.459118, 39.8658],\n",
       "  '北工大西门站': [116.484017, 39.880747],\n",
       "  '平乐园站': [116.477312, 39.884391],\n",
       "  '九龙山站': [116.477516, 39.893212],\n",
       "  '大望路站': [116.476226, 39.908317],\n",
       "  '金台路站': [116.478091, 39.92291],\n",
       "  '朝阳公园站': [116.483192, 39.933792],\n",
       "  '枣营站': [116.474275, 39.944303],\n",
       "  '东风北桥站': [116.486697, 39.957614],\n",
       "  '将台站': [116.489861, 39.971315],\n",
       "  '高家园站': [116.484772, 39.975838],\n",
       "  '望京南站': [116.477867, 39.98762],\n",
       "  '阜通站': [116.470142, 39.992683],\n",
       "  '望京站': [116.469783, 39.998741],\n",
       "  '东湖渠站': [116.467364, 40.010225],\n",
       "  '来广营站': [116.466868, 40.020555],\n",
       "  '善各庄站': [116.485254, 40.023465]},\n",
       " '北京地铁7号线': {'北京西站': [116.32111, 39.894834],\n",
       "  '湾子站': [116.329117, 39.889836],\n",
       "  '达官营站': [116.339241, 39.889782],\n",
       "  '广安门内站': [116.358706, 39.889401],\n",
       "  '菜市口站': [116.374431, 39.889302],\n",
       "  '虎坊桥站': [116.384687, 39.889487],\n",
       "  '珠市口站': [116.39841, 39.891279],\n",
       "  '桥湾站': [116.414901, 39.899001],\n",
       "  '磁器口站': [116.4189158, 39.8930937],\n",
       "  '广渠门内站': [116.435186, 39.89357],\n",
       "  '广渠门外站': [116.449427, 39.893571],\n",
       "  '双井站': [116.461834, 39.893512],\n",
       "  '九龙山站': [116.477516, 39.893212],\n",
       "  '大郊亭站': [116.489208, 39.893182],\n",
       "  '百子湾站': [116.5128516, 39.8734353],\n",
       "  '化工站': [116.507445, 39.889323],\n",
       "  '南楼梓庄站': [116.501138, 39.874772],\n",
       "  '欢乐谷景区站': [116.499906, 39.86854599999999],\n",
       "  '垡头站': [116.511829, 39.860864],\n",
       "  '双合站': [116.520773, 39.85752799999999],\n",
       "  '焦化厂站': [116.535819, 39.849969],\n",
       "  '豆各庄站': [116.572549, 39.87319],\n",
       "  '黑庄户站': [116.596662, 39.853324],\n",
       "  '万盛南街西口站': [116.6520906, 39.8635072],\n",
       "  '云景东路站': [116.6645399, 39.87423769999999],\n",
       "  '施园站': [116.69255, 39.845749]},\n",
       " '北京地铁16号线': {'富丰桥站': [116.2871872, 39.8362722],\n",
       "  '丰台南路站': [116.296748, 39.840444],\n",
       "  '丰台站': [116.289062, 39.84884599999999],\n",
       "  '丰台火车站': [116.289062, 39.84884599999999],\n",
       "  '丽泽商务区站': [116.336137, 39.868075],\n",
       "  '红莲南里站': [116.330055, 39.877113],\n",
       "  '达官营站': [116.339241, 39.889782],\n",
       "  '木樨地站': [116.337583, 39.907379],\n",
       "  '玉渊潭东门站': [116.321389, 39.912976],\n",
       "  '甘家口站': [116.3345279, 39.923037],\n",
       "  '二里沟站': [116.333382, 39.935387],\n",
       "  '国家图书馆站': [116.325043, 39.944614],\n",
       "  '万寿寺站': [116.309842, 39.947721],\n",
       "  '苏州桥站': [116.307951, 39.96319],\n",
       "  '苏州街站': [116.306188, 39.977156],\n",
       "  '万泉河桥站': [116.3008424, 39.985716],\n",
       "  '西苑站': [116.290805, 39.998298],\n",
       "  '农大南路站': [116.282974, 40.020568],\n",
       "  '马连洼站': [116.284193, 40.033869],\n",
       "  '西北旺站': [116.260147, 40.04121],\n",
       "  '永丰南站': [116.248839, 40.064727],\n",
       "  '永丰站': [116.227448, 40.077084],\n",
       "  '屯佃站': [116.222442, 40.074106],\n",
       "  '稻香湖路站': [116.1866227, 40.07558],\n",
       "  '温阳路站': [116.157327, 40.098067],\n",
       "  '北安河站': [116.121834, 40.061184]},\n",
       " '北京地铁西郊线': {'巴沟站': [116.293727, 39.974179],\n",
       "  '颐和园西门站': [116.261412, 39.985683],\n",
       "  '茶棚站': [116.25461, 39.988011],\n",
       "  '万安站': [116.238603, 39.989737],\n",
       "  '植物园站': [116.221373, 39.999254],\n",
       "  '香山站': [116.211114, 39.999821]},\n",
       " '北京地铁S1线': {'苹果园站': [116.177864, 39.926261],\n",
       "  '金安桥站': [116.161285, 39.924461],\n",
       "  '四道桥站': [116.140356, 39.922119],\n",
       "  '桥户营站': [116.132271, 39.918355],\n",
       "  '上岸站': [116.128714, 39.911139],\n",
       "  '栗园庄站': [116.122139, 39.887211],\n",
       "  '小园站': [116.121001, 39.896156],\n",
       "  '石厂站': [116.106975, 39.895137]},\n",
       " '北京地铁燕房线': {'阎村东站': [116.107001, 39.734677],\n",
       "  '紫草坞站': [116.07859, 39.72155],\n",
       "  '阎村站': [116.086807, 39.722483],\n",
       "  '星城站': [116.067772, 39.719734],\n",
       "  '大石河东站': [116.046084, 39.716115],\n",
       "  '马各庄站': [116.023054, 39.711154],\n",
       "  '饶乐府站': [116.003464, 39.700996],\n",
       "  '房山城关站': [115.984464, 39.70324799999999],\n",
       "  '燕山站': [115.957031, 39.748013],\n",
       "  '周口店镇站': [115.939073, 39.686196]},\n",
       " '北京地铁2号线': {'西直门站': [116.355425, 39.94048],\n",
       "  '积水潭站': [116.368591, 39.947559],\n",
       "  '鼓楼大街站': [116.393776, 39.948972],\n",
       "  '安定门站': [116.408228, 39.949179],\n",
       "  '雍和宫站': [116.417143, 39.949334],\n",
       "  '东直门站': [116.433552, 39.941098],\n",
       "  '东四十条站': [116.434136, 39.93366899999999],\n",
       "  '朝阳门站': [116.434372, 39.922005],\n",
       "  '建国门站': [116.435783, 39.908483],\n",
       "  '北京站': [116.427217, 39.90497999999999],\n",
       "  '崇文门站': [116.417042, 39.90106100000001],\n",
       "  '前门站': [116.397875, 39.90019400000001],\n",
       "  '和平门站': [116.390619, 39.906362],\n",
       "  '宣武门站': [116.374314, 39.899723],\n",
       "  '长椿街站': [116.363397, 39.894505],\n",
       "  '复兴门站': [116.357641, 39.907252],\n",
       "  '阜成门站': [116.356012, 39.92350100000001],\n",
       "  '车公庄站': [116.354424, 39.932365]}}"
      ]
     },
     "execution_count": 250,
     "metadata": {},
     "output_type": "execute_result"
    }
   ],
   "source": [
    "largedic"
   ]
  },
  {
   "cell_type": "markdown",
   "metadata": {},
   "source": [
    "## Visualization of the subway line -2 hours\n",
    "I tired different method to plot the subway lines and stations and learn how to used defaultdict to render nodes and edges directly to the drawing.\n",
    "\n",
    "finally, I successfuly plot all of the line and stations in one graph. However, I don't know how to assgin color to each sepercific line.\n",
    "\n",
    "You may find the visualization of the subway lines are some kind of messy. You will find out why it is such a messy in the future"
   ]
  },
  {
   "cell_type": "code",
   "execution_count": 111,
   "metadata": {},
   "outputs": [],
   "source": [
    "import networkx as nx\n",
    "from collections import defaultdict\n",
    "plt.rcParams['font.sans-serif'] = ['STHeiti'] \n",
    "plt.rcParams['axes.unicode_minus'] = False"
   ]
  },
  {
   "cell_type": "code",
   "execution_count": 179,
   "metadata": {},
   "outputs": [],
   "source": [
    "lines = list(largedic.keys())"
   ]
  },
  {
   "cell_type": "code",
   "execution_count": 197,
   "metadata": {},
   "outputs": [],
   "source": [
    "subway = nx.Graph()"
   ]
  },
  {
   "cell_type": "code",
   "execution_count": 251,
   "metadata": {},
   "outputs": [],
   "source": [
    "station_connection = defaultdict(list)"
   ]
  },
  {
   "cell_type": "code",
   "execution_count": 252,
   "metadata": {},
   "outputs": [],
   "source": [
    "i = 1\n",
    "for key, value in largedic.items():\n",
    "    if i == 1:\n",
    "        d1= value\n",
    "        d_sum = dict(d1)\n",
    "        i+=1\n",
    "    d_sum.update(value)\n"
   ]
  },
  {
   "cell_type": "code",
   "execution_count": 253,
   "metadata": {},
   "outputs": [],
   "source": [
    "for key,value in largedic.items():\n",
    "    stations = list(largedic[key].keys())\n",
    "    for i in range(len(stations)-1):\n",
    "        if stations[i+1] in station_connection[stations[i]]:continue\n",
    "        station_connection[stations[i]].append(stations[i+1])"
   ]
  },
  {
   "cell_type": "code",
   "execution_count": 254,
   "metadata": {},
   "outputs": [],
   "source": [
    "s_c_g = nx.Graph(station_connection)"
   ]
  },
  {
   "cell_type": "code",
   "execution_count": 255,
   "metadata": {},
   "outputs": [
    {
     "data": {
      "text/plain": [
       "defaultdict(list,\n",
       "            {'高井站': ['福寿岭站'],\n",
       "             '福寿岭站': ['苹果园站'],\n",
       "             '苹果园站': ['古城站', '杨庄站', '金安桥站'],\n",
       "             '古城站': ['八角游乐园站'],\n",
       "             '八角游乐园站': ['八宝山站'],\n",
       "             '八宝山站': ['玉泉路站'],\n",
       "             '玉泉路站': ['五棵松站'],\n",
       "             '五棵松站': ['万寿路站'],\n",
       "             '万寿路站': ['公主坟站'],\n",
       "             '公主坟站': ['军事博物馆站', '西钓鱼台站'],\n",
       "             '军事博物馆站': ['木樨地站', '白堆子站'],\n",
       "             '木樨地站': ['南礼士路站', '玉渊潭东门站'],\n",
       "             '南礼士路站': ['复兴门站'],\n",
       "             '复兴门站': ['西单站', '阜成门站'],\n",
       "             '西单站': ['天安门西站', '灵境胡同站'],\n",
       "             '天安门西站': ['天安门东站'],\n",
       "             '天安门东站': ['王府井站'],\n",
       "             '王府井站': ['东单站', '前门站'],\n",
       "             '东单站': ['建国门站', '灯市口站'],\n",
       "             '建国门站': ['永安里站', '北京站'],\n",
       "             '永安里站': ['国贸站'],\n",
       "             '国贸站': ['大望路站', '双井站'],\n",
       "             '大望路站': ['四惠站', '金台路站'],\n",
       "             '四惠站': ['四惠东站'],\n",
       "             '四惠东站': ['传媒大学站', '高碑店站'],\n",
       "             '传媒大学站': ['双桥站'],\n",
       "             '双桥站': ['管庄站'],\n",
       "             '管庄站': ['八里桥站'],\n",
       "             '八里桥站': ['通州北苑站'],\n",
       "             '通州北苑站': ['果园站'],\n",
       "             '果园站': ['九棵树站'],\n",
       "             '九棵树站': ['梨园站'],\n",
       "             '梨园站': ['临河里站'],\n",
       "             '临河里站': ['土桥站'],\n",
       "             '西直门站': ['清华东路西口站', '动物园站', '积水潭站'],\n",
       "             '清华东路西口站': ['明光桥西站', '六道口站'],\n",
       "             '明光桥西站': ['大钟寺站'],\n",
       "             '大钟寺站': ['知春路站'],\n",
       "             '知春路站': ['五道口站', '西土城站'],\n",
       "             '五道口站': ['上地站'],\n",
       "             '上地站': ['清河站'],\n",
       "             '清河站': ['西二旗站'],\n",
       "             '西二旗站': ['龙泽站', '生命科学园站'],\n",
       "             '龙泽站': ['回龙观站'],\n",
       "             '回龙观站': ['霍营站'],\n",
       "             '霍营站': ['建材城东路站', '育新站'],\n",
       "             '建材城东路站': ['立水桥站'],\n",
       "             '立水桥站': ['北苑站', '天通苑南站'],\n",
       "             '北苑站': ['望京西站'],\n",
       "             '望京西站': ['芍药居站', '望京站'],\n",
       "             '芍药居站': ['光熙门站', '太阳宫站'],\n",
       "             '光熙门站': ['柳芳站'],\n",
       "             '柳芳站': ['东直门站'],\n",
       "             '高碑店站': ['传媒大学站'],\n",
       "             '土桥站': ['施园站'],\n",
       "             '宋家庄站': ['刘家窑站', '石榴庄站', '肖村站'],\n",
       "             '刘家窑站': ['蒲黄榆站'],\n",
       "             '蒲黄榆站': ['天坛东门站', '方庄站'],\n",
       "             '天坛东门站': ['磁器口站'],\n",
       "             '磁器口站': ['崇文门站', '广渠门内站'],\n",
       "             '崇文门站': ['东单站', '前门站'],\n",
       "             '灯市口站': ['东四站'],\n",
       "             '东四站': ['张自忠路站', '朝阳门站'],\n",
       "             '张自忠路站': ['北新桥站'],\n",
       "             '北新桥站': ['雍和宫站'],\n",
       "             '雍和宫站': ['和平里北街站', '东直门站'],\n",
       "             '和平里北街站': ['和平西桥站'],\n",
       "             '和平西桥站': ['惠新西街南口站'],\n",
       "             '惠新西街南口站': ['惠新西街北口站', '芍药居站'],\n",
       "             '惠新西街北口站': ['大屯路东站'],\n",
       "             '大屯路东站': ['北苑路北站', '关庄站'],\n",
       "             '北苑路北站': ['立水桥南站'],\n",
       "             '立水桥南站': ['立水桥站'],\n",
       "             '天通苑南站': ['天通苑站'],\n",
       "             '天通苑站': ['天通苑北站'],\n",
       "             '天通苑北站': ['平西府站'],\n",
       "             '平西府站': ['东沙各庄站', '回龙观东大街站'],\n",
       "             '东沙各庄站': ['大柳树站'],\n",
       "             '大柳树站': ['小汤山站'],\n",
       "             '朱辛庄站': ['育知路站', '巩华城站'],\n",
       "             '育知路站': ['平西府站'],\n",
       "             '回龙观东大街站': ['霍营站'],\n",
       "             '育新站': ['西小口站'],\n",
       "             '西小口站': ['永泰庄站'],\n",
       "             '永泰庄站': ['林萃桥站'],\n",
       "             '林萃桥站': ['森林公园南门站'],\n",
       "             '森林公园南门站': ['奥林匹克公园站'],\n",
       "             '奥林匹克公园站': ['奥体中心站', '安立路站'],\n",
       "             '奥体中心站': ['北土城站'],\n",
       "             '北土城站': ['安华桥站', '安贞门站'],\n",
       "             '安华桥站': ['安德里北街站'],\n",
       "             '安德里北街站': ['鼓楼大街站'],\n",
       "             '鼓楼大街站': ['什刹海站', '安定门站'],\n",
       "             '什刹海站': ['南锣鼓巷站'],\n",
       "             '南锣鼓巷站': ['中国美术馆站', '东四站'],\n",
       "             '中国美术馆站': ['王府井站'],\n",
       "             '前门站': ['珠市口站', '和平门站'],\n",
       "             '珠市口站': ['天桥站', '桥湾站'],\n",
       "             '天桥站': ['永定门外站'],\n",
       "             '永定门外站': ['木樨园站', '景泰站'],\n",
       "             '木樨园站': ['海户屯站'],\n",
       "             '海户屯站': ['大红门站'],\n",
       "             '大红门站': ['大红门南站', '角门东站'],\n",
       "             '大红门南站': ['和义站'],\n",
       "             '和义站': ['东高地站'],\n",
       "             '东高地站': ['火箭万源站'],\n",
       "             '火箭万源站': ['五福堂站'],\n",
       "             '五福堂站': ['德茂站'],\n",
       "             '德茂站': ['瀛海站'],\n",
       "             '巴沟站': ['苏州街站', '颐和园西门站'],\n",
       "             '苏州街站': ['海淀黄庄站', '万泉河桥站'],\n",
       "             '海淀黄庄站': ['知春里站', '中关村站'],\n",
       "             '知春里站': ['知春路站'],\n",
       "             '西土城站': ['牡丹园站', '六道口站'],\n",
       "             '牡丹园站': ['健德门站'],\n",
       "             '健德门站': ['北土城站'],\n",
       "             '安贞门站': ['惠新西街南口站'],\n",
       "             '太阳宫站': ['三元桥站'],\n",
       "             '三元桥站': ['亮马桥站', '3号航站楼站'],\n",
       "             '亮马桥站': ['农业展览馆站'],\n",
       "             '农业展览馆站': ['团结湖站'],\n",
       "             '团结湖站': ['呼家楼站'],\n",
       "             '呼家楼站': ['金台夕照站', '金台路站'],\n",
       "             '金台夕照站': ['国贸站'],\n",
       "             '双井站': ['劲松站', '九龙山站'],\n",
       "             '劲松站': ['潘家园站'],\n",
       "             '潘家园站': ['十里河站'],\n",
       "             '十里河站': ['分钟寺站', '北工大西门站'],\n",
       "             '分钟寺站': ['成寿寺站'],\n",
       "             '成寿寺站': ['宋家庄站'],\n",
       "             '石榴庄站': ['大红门站'],\n",
       "             '角门东站': ['角门西站'],\n",
       "             '角门西站': ['草桥站', '马家堡站'],\n",
       "             '草桥站': ['纪家庙站'],\n",
       "             '纪家庙站': ['首经贸站'],\n",
       "             '首经贸站': ['丰台站'],\n",
       "             '丰台站': ['泥洼站', '丰台火车站'],\n",
       "             '泥洼站': ['西局站'],\n",
       "             '西局站': ['六里桥站', '丽泽商务区站'],\n",
       "             '六里桥站': ['莲花桥站', '六里桥东站'],\n",
       "             '莲花桥站': ['公主坟站'],\n",
       "             '西钓鱼台站': ['慈寿寺站'],\n",
       "             '慈寿寺站': ['车道沟站', '花园桥站'],\n",
       "             '车道沟站': ['长春桥站'],\n",
       "             '长春桥站': ['火器营站'],\n",
       "             '东直门站': ['三元桥站', '东四十条站'],\n",
       "             '3号航站楼站': ['2号航站楼站'],\n",
       "             '2号航站楼站': ['2号航站'],\n",
       "             '公益西桥站': ['角门西站'],\n",
       "             '马家堡站': ['北京南站'],\n",
       "             '北京南站': ['陶然亭站', '陶然桥站'],\n",
       "             '陶然亭站': ['菜市口站'],\n",
       "             '菜市口站': ['宣武门站', '虎坊桥站'],\n",
       "             '宣武门站': ['西单站', '长椿街站'],\n",
       "             '灵境胡同站': ['西四站'],\n",
       "             '西四站': ['平安里站'],\n",
       "             '平安里站': ['新街口站', '北海北站'],\n",
       "             '新街口站': ['西直门站'],\n",
       "             '动物园站': ['国家图书馆站'],\n",
       "             '国家图书馆站': ['魏公村站', '万寿寺站'],\n",
       "             '魏公村站': ['人民大学站'],\n",
       "             '人民大学站': ['海淀黄庄站'],\n",
       "             '中关村站': ['北京大学东门站'],\n",
       "             '北京大学东门站': ['圆明园站'],\n",
       "             '圆明园站': ['西苑站'],\n",
       "             '西苑站': ['北宫门站', '农大南路站'],\n",
       "             '北宫门站': ['安河桥北站'],\n",
       "             '六道口站': ['北沙滩站', '学清路站'],\n",
       "             '北沙滩站': ['奥林匹克公园站'],\n",
       "             '安立路站': ['大屯路东站'],\n",
       "             '关庄站': ['望京西站'],\n",
       "             '望京站': ['望京东站', '东湖渠站'],\n",
       "             '望京东站': ['崔各庄站'],\n",
       "             '崔各庄站': ['马泉营站'],\n",
       "             '马泉营站': ['孙河站'],\n",
       "             '孙河站': ['国展站'],\n",
       "             '国展站': ['花梨坎站'],\n",
       "             '花梨坎站': ['后沙峪站'],\n",
       "             '后沙峪站': ['南法信站'],\n",
       "             '南法信站': ['石门站'],\n",
       "             '石门站': ['顺义站'],\n",
       "             '顺义站': ['俸伯站'],\n",
       "             '蓟门桥站': ['西土城站'],\n",
       "             '学清路站': ['上清桥站'],\n",
       "             '上清桥站': ['清河站'],\n",
       "             '生命科学园站': ['朱辛庄站'],\n",
       "             '巩华城站': ['沙河站'],\n",
       "             '沙河站': ['沙河高教园站'],\n",
       "             '沙河高教园站': ['南邵站'],\n",
       "             '南邵站': ['北邵洼站'],\n",
       "             '北邵洼站': ['昌平东关站'],\n",
       "             '昌平东关站': ['昌平站'],\n",
       "             '昌平站': ['昌平北站'],\n",
       "             '昌平北站': ['十三陵景区站'],\n",
       "             '十三陵景区站': ['昌平西山口站'],\n",
       "             '天宫院站': ['生物医药基地站'],\n",
       "             '生物医药基地站': ['义和庄站'],\n",
       "             '义和庄站': ['黄村火车站'],\n",
       "             '黄村火车站': ['黄村西大街站'],\n",
       "             '黄村西大街站': ['清源路站'],\n",
       "             '清源路站': ['枣园站'],\n",
       "             '枣园站': ['高米店南站'],\n",
       "             '高米店南站': ['高米店北站'],\n",
       "             '高米店北站': ['西红门站'],\n",
       "             '西红门站': ['新宫站'],\n",
       "             '新宫站': ['公益西桥站'],\n",
       "             '阎村东站': ['苏庄站', '紫草坞站'],\n",
       "             '苏庄站': ['良乡南关站'],\n",
       "             '良乡南关站': ['良乡大学城西站'],\n",
       "             '良乡大学城西站': ['良乡大学城站'],\n",
       "             '良乡大学城站': ['良乡大学城北站'],\n",
       "             '良乡大学城北站': ['广阳城站'],\n",
       "             '广阳城站': ['篱笆房站'],\n",
       "             '篱笆房站': ['长阳站'],\n",
       "             '长阳站': ['稻田站'],\n",
       "             '稻田站': ['大葆台站'],\n",
       "             '大葆台站': ['郭公庄站'],\n",
       "             '郭公庄站': ['花乡桥东站', '丰台科技园站'],\n",
       "             '花乡桥东站': ['首经贸站'],\n",
       "             '肖村站': ['小红门站'],\n",
       "             '小红门站': ['旧宫站'],\n",
       "             '旧宫站': ['亦庄桥站'],\n",
       "             '亦庄桥站': ['亦庄文化园站'],\n",
       "             '亦庄文化园站': ['万源街站'],\n",
       "             '万源街站': ['荣京东街站'],\n",
       "             '荣京东街站': ['荣昌东街站'],\n",
       "             '荣昌东街站': ['同济南路站'],\n",
       "             '同济南路站': ['经海路站'],\n",
       "             '经海路站': ['次渠南站'],\n",
       "             '次渠南站': ['次渠站'],\n",
       "             '次渠站': ['亦庄火车站'],\n",
       "             '丰台科技园站': ['科怡路站'],\n",
       "             '科怡路站': ['丰台南路站'],\n",
       "             '丰台南路站': ['丰台东大街站', '丰台站'],\n",
       "             '丰台东大街站': ['七里庄站'],\n",
       "             '七里庄站': ['六里桥站', '西局站'],\n",
       "             '六里桥东站': ['北京西站'],\n",
       "             '北京西站': ['军事博物馆站', '湾子站'],\n",
       "             '白堆子站': ['白石桥南站'],\n",
       "             '白石桥南站': ['国家图书馆站', '二里沟站'],\n",
       "             '金安桥站': ['苹果园站', '四道桥站'],\n",
       "             '杨庄站': ['西黄村站'],\n",
       "             '西黄村站': ['廖公庄站'],\n",
       "             '廖公庄站': ['田村站'],\n",
       "             '田村站': ['海淀五路居站'],\n",
       "             '海淀五路居站': ['慈寿寺站'],\n",
       "             '花园桥站': ['白石桥南站'],\n",
       "             '二里沟站': ['车公庄西站', '国家图书馆站'],\n",
       "             '车公庄西站': ['车公庄站'],\n",
       "             '车公庄站': ['平安里站'],\n",
       "             '北海北站': ['南锣鼓巷站'],\n",
       "             '朝阳门站': ['东大桥站', '建国门站'],\n",
       "             '东大桥站': ['呼家楼站'],\n",
       "             '金台路站': ['十里堡站', '朝阳公园站'],\n",
       "             '十里堡站': ['青年路站'],\n",
       "             '青年路站': ['褡裢坡站'],\n",
       "             '褡裢坡站': ['黄渠站'],\n",
       "             '黄渠站': ['常营站'],\n",
       "             '常营站': ['草房站'],\n",
       "             '草房站': ['物资学院路站'],\n",
       "             '物资学院路站': ['通州北关站'],\n",
       "             '通州北关站': ['通运门站'],\n",
       "             '通运门站': ['北运河西站'],\n",
       "             '北运河西站': ['北运河东站'],\n",
       "             '北运河东站': ['郝家府站'],\n",
       "             '郝家府站': ['东夏园站'],\n",
       "             '东夏园站': ['潞城站'],\n",
       "             '张郭庄站': ['园博园站'],\n",
       "             '园博园站': ['大瓦窑站'],\n",
       "             '大瓦窑站': ['郭庄子站'],\n",
       "             '郭庄子站': ['大井站'],\n",
       "             '大井站': ['七里庄站'],\n",
       "             '丽泽商务区站': ['北京南站', '红莲南里站'],\n",
       "             '陶然桥站': ['永定门外站'],\n",
       "             '景泰站': ['蒲黄榆站'],\n",
       "             '方庄站': ['十里河站'],\n",
       "             '北工大西门站': ['平乐园站'],\n",
       "             '平乐园站': ['九龙山站'],\n",
       "             '九龙山站': ['大望路站', '大郊亭站'],\n",
       "             '朝阳公园站': ['枣营站'],\n",
       "             '枣营站': ['东风北桥站'],\n",
       "             '东风北桥站': ['将台站'],\n",
       "             '将台站': ['高家园站'],\n",
       "             '高家园站': ['望京南站'],\n",
       "             '望京南站': ['阜通站'],\n",
       "             '阜通站': ['望京站'],\n",
       "             '东湖渠站': ['来广营站'],\n",
       "             '来广营站': ['善各庄站'],\n",
       "             '湾子站': ['达官营站'],\n",
       "             '达官营站': ['广安门内站', '木樨地站'],\n",
       "             '广安门内站': ['菜市口站'],\n",
       "             '虎坊桥站': ['珠市口站'],\n",
       "             '桥湾站': ['磁器口站'],\n",
       "             '广渠门内站': ['广渠门外站'],\n",
       "             '广渠门外站': ['双井站'],\n",
       "             '大郊亭站': ['百子湾站'],\n",
       "             '百子湾站': ['化工站'],\n",
       "             '化工站': ['南楼梓庄站'],\n",
       "             '南楼梓庄站': ['欢乐谷景区站'],\n",
       "             '欢乐谷景区站': ['垡头站'],\n",
       "             '垡头站': ['双合站'],\n",
       "             '双合站': ['焦化厂站'],\n",
       "             '焦化厂站': ['豆各庄站'],\n",
       "             '豆各庄站': ['黑庄户站'],\n",
       "             '黑庄户站': ['万盛南街西口站'],\n",
       "             '万盛南街西口站': ['云景东路站'],\n",
       "             '云景东路站': ['施园站'],\n",
       "             '富丰桥站': ['丰台南路站'],\n",
       "             '丰台火车站': ['丽泽商务区站'],\n",
       "             '红莲南里站': ['达官营站'],\n",
       "             '玉渊潭东门站': ['甘家口站'],\n",
       "             '甘家口站': ['二里沟站'],\n",
       "             '万寿寺站': ['苏州桥站'],\n",
       "             '苏州桥站': ['苏州街站'],\n",
       "             '万泉河桥站': ['西苑站'],\n",
       "             '农大南路站': ['马连洼站'],\n",
       "             '马连洼站': ['西北旺站'],\n",
       "             '西北旺站': ['永丰南站'],\n",
       "             '永丰南站': ['永丰站'],\n",
       "             '永丰站': ['屯佃站'],\n",
       "             '屯佃站': ['稻香湖路站'],\n",
       "             '稻香湖路站': ['温阳路站'],\n",
       "             '温阳路站': ['北安河站'],\n",
       "             '颐和园西门站': ['茶棚站'],\n",
       "             '茶棚站': ['万安站'],\n",
       "             '万安站': ['植物园站'],\n",
       "             '植物园站': ['香山站'],\n",
       "             '四道桥站': ['桥户营站'],\n",
       "             '桥户营站': ['上岸站'],\n",
       "             '上岸站': ['栗园庄站'],\n",
       "             '栗园庄站': ['小园站'],\n",
       "             '小园站': ['石厂站'],\n",
       "             '紫草坞站': ['阎村站'],\n",
       "             '阎村站': ['星城站'],\n",
       "             '星城站': ['大石河东站'],\n",
       "             '大石河东站': ['马各庄站'],\n",
       "             '马各庄站': ['饶乐府站'],\n",
       "             '饶乐府站': ['房山城关站'],\n",
       "             '房山城关站': ['燕山站'],\n",
       "             '燕山站': ['周口店镇站'],\n",
       "             '积水潭站': ['鼓楼大街站'],\n",
       "             '安定门站': ['雍和宫站'],\n",
       "             '东四十条站': ['朝阳门站'],\n",
       "             '北京站': ['崇文门站'],\n",
       "             '和平门站': ['宣武门站'],\n",
       "             '长椿街站': ['复兴门站'],\n",
       "             '阜成门站': ['车公庄站']})"
      ]
     },
     "execution_count": 255,
     "metadata": {},
     "output_type": "execute_result"
    }
   ],
   "source": [
    "station_connection"
   ]
  },
  {
   "cell_type": "code",
   "execution_count": 258,
   "metadata": {
    "scrolled": false
   },
   "outputs": [
    {
     "data": {
      "image/png": "[encoded data removed]",
      "text/plain": [
       "<Figure size 1440x1440 with 1 Axes>"
      ]
     },
     "metadata": {},
     "output_type": "display_data"
    }
   ],
   "source": [
    "plt.figure(figsize=(20, 20))\n",
    "nx.draw(s_c_g,d_sum, with_labels=True,font_size=8,node_size=15)"
   ]
  },
  {
   "cell_type": "markdown",
   "metadata": {},
   "source": [
    "##### 3. Build the search agent --2 hours \n",
    "\n",
    "> Build the search agent based on the graph we build.\n",
    "\n",
    "for example, when you run: \n",
    "\n",
    "```python\n",
    ">>> search('奥体中心', '天安门') \n",
    "```\n",
    "you need get the result: \n",
    "\n",
    "奥体中心-> A -> B -> C -> ... -> 天安门\n",
    "\n",
    "\n",
    "In this part I first spend some time read through instructor's codes. After making sure that I understand the essence of the codes, I tried to wrtie the code by myself. The thinking behind BFS and DFS and the algorithm are beautiful"
   ]
  },
  {
   "cell_type": "code",
   "execution_count": 260,
   "metadata": {},
   "outputs": [],
   "source": [
    "def geo_distance(origin, destination):\n",
    "    \"\"\"\n",
    "    Calculate the Haversine distance.\n",
    "\n",
    "    Parameters\n",
    "    ----------\n",
    "    origin : tuple of float\n",
    "        (lat, long)\n",
    "    destination : tuple of float\n",
    "        (lat, long)\n",
    "\n",
    "    Returns\n",
    "    -------\n",
    "    distance_in_km : float\n",
    "\n",
    "    Examples\n",
    "    --------\n",
    "    >>> origin = (48.1372, 11.5756)  # Munich\n",
    "    >>> destination = (52.5186, 13.4083)  # Berlin\n",
    "    >>> round(distance(origin, destination), 1)\n",
    "    504.2\n",
    "    \"\"\"\n",
    "    lat1, lon1 = origin\n",
    "    lat2, lon2 = destination\n",
    "    radius = 6371  # km\n",
    "\n",
    "    dlat = math.radians(lat2 - lat1)\n",
    "    dlon = math.radians(lon2 - lon1)\n",
    "    a = (math.sin(dlat / 2) * math.sin(dlat / 2) +\n",
    "         math.cos(math.radians(lat1)) * math.cos(math.radians(lat2)) *\n",
    "         math.sin(dlon / 2) * math.sin(dlon / 2))\n",
    "    c = 2 * math.atan2(math.sqrt(a), math.sqrt(1 - a))\n",
    "    d = radius * c\n",
    "\n",
    "    return d"
   ]
  },
  {
   "cell_type": "markdown",
   "metadata": {},
   "source": [
    "This is the most beautiful algorithm. With a few lines of code, you can achieve planning the route for subway users! \n",
    "\n",
    "The sorting function used in this codes to adjust for different mode is excellent"
   ]
  },
  {
   "cell_type": "code",
   "execution_count": 262,
   "metadata": {},
   "outputs": [],
   "source": [
    "def search(start, destination, connection_graph, sort_candidate):\n",
    "    pathes = [[start]]\n",
    "    seen = set()\n",
    "    while pathes:\n",
    "        path = pathes.pop(0)\n",
    "        frontier = path[-1]\n",
    "        if frontier in seen: continue\n",
    "        for station in connection_graph[frontier]:\n",
    "            if station in seen: continue\n",
    "            new_path = path + [station]\n",
    "            pathes.append(new_path)\n",
    "            if station == destination:return new_path\n",
    "        pathes = sort_candidate(pathes)\n",
    "        seen.add(frontier)"
   ]
  },
  {
   "cell_type": "markdown",
   "metadata": {},
   "source": [
    "相当于深度优先搜索， 这种方法采用长的线路先搜索，不一定能找到transfer最少的路线，有时候能找到transfer最少的，有时候不能。不确定这种搜索方法的归类--“看运气的搜索？”\n"
   ]
  },
  {
   "cell_type": "code",
   "execution_count": 274,
   "metadata": {},
   "outputs": [],
   "source": [
    "def transfer_first(pathes):\n",
    "    return sorted(pathes,key=len,reverse= True)"
   ]
  },
  {
   "cell_type": "markdown",
   "metadata": {},
   "source": [
    "相当于广度优先搜索，这种方法采用短路线优先搜索，能很找到transfer最少的路线"
   ]
  },
  {
   "cell_type": "code",
   "execution_count": 483,
   "metadata": {},
   "outputs": [],
   "source": [
    "def transfer_less(pathes):\n",
    "    return sorted(pathes,key=len)"
   ]
  },
  {
   "cell_type": "code",
   "execution_count": 268,
   "metadata": {},
   "outputs": [],
   "source": [
    "def get_geo_distance(s1,s2):\n",
    "    long1, lat1 = d_sum[s1]\n",
    "    long2, lat2 = d_sum[s2]\n",
    "    orgin = (lat1,long1)\n",
    "    destination = (lat2,long2)\n",
    "    return  geo_distance(orgin,destination)"
   ]
  },
  {
   "cell_type": "code",
   "execution_count": 291,
   "metadata": {},
   "outputs": [],
   "source": [
    "def shortest_distance_first(pathes):\n",
    "    if len(pathes)<=1:return pathes\n",
    "    \n",
    "    def get_plan_distance(path):\n",
    "        distance = 0\n",
    "        start = path[0]\n",
    "        for i in path[1:]:\n",
    "            distance += get_geo_distance(start,i)\n",
    "            start = i \n",
    "        return distance\n",
    "        \n",
    "    return sorted(pathes,key=get_plan_distance)"
   ]
  },
  {
   "cell_type": "markdown",
   "metadata": {},
   "source": [
    "##### 5.\tTest your result with commercial applications. \n",
    "\n",
    "将你的结果和高德地图或者百度地图进行比较，如果有不同，请分析原因\n"
   ]
  },
  {
   "cell_type": "code",
   "execution_count": 271,
   "metadata": {
    "scrolled": true
   },
   "outputs": [
    {
     "data": {
      "text/plain": [
       "['瀛海站',\n",
       " '德茂站',\n",
       " '五福堂站',\n",
       " '火箭万源站',\n",
       " '东高地站',\n",
       " '和义站',\n",
       " '大红门南站',\n",
       " '大红门站',\n",
       " '海户屯站',\n",
       " '木樨园站',\n",
       " '永定门外站',\n",
       " '天桥站',\n",
       " '珠市口站',\n",
       " '前门站',\n",
       " '王府井站',\n",
       " '天安门东站',\n",
       " '天安门西站',\n",
       " '西单站',\n",
       " '复兴门站',\n",
       " '南礼士路站',\n",
       " '木樨地站',\n",
       " '军事博物馆站',\n",
       " '公主坟站',\n",
       " '万寿路站',\n",
       " '五棵松站',\n",
       " '玉泉路站',\n",
       " '八宝山站',\n",
       " '八角游乐园站',\n",
       " '古城站',\n",
       " '苹果园站',\n",
       " '杨庄站',\n",
       " '西黄村站',\n",
       " '廖公庄站',\n",
       " '田村站',\n",
       " '海淀五路居站',\n",
       " '慈寿寺站',\n",
       " '花园桥站',\n",
       " '白石桥南站',\n",
       " '国家图书馆站',\n",
       " '动物园站',\n",
       " '西直门站',\n",
       " '清华东路西口站',\n",
       " '明光桥西站',\n",
       " '大钟寺站',\n",
       " '知春路站',\n",
       " '五道口站',\n",
       " '上地站',\n",
       " '清河站',\n",
       " '西二旗站',\n",
       " '龙泽站',\n",
       " '回龙观站',\n",
       " '霍营站',\n",
       " '建材城东路站',\n",
       " '立水桥站',\n",
       " '天通苑南站',\n",
       " '天通苑站',\n",
       " '天通苑北站',\n",
       " '平西府站',\n",
       " '育知路站',\n",
       " '朱辛庄站',\n",
       " '巩华城站',\n",
       " '沙河站',\n",
       " '沙河高教园站',\n",
       " '南邵站',\n",
       " '北邵洼站',\n",
       " '昌平东关站',\n",
       " '昌平站']"
      ]
     },
     "execution_count": 271,
     "metadata": {},
     "output_type": "execute_result"
    }
   ],
   "source": [
    "search('瀛海站', '昌平站',s_c_g,transfer_most)"
   ]
  },
  {
   "cell_type": "code",
   "execution_count": 275,
   "metadata": {
    "scrolled": true
   },
   "outputs": [
    {
     "data": {
      "text/plain": [
       "['瀛海站',\n",
       " '德茂站',\n",
       " '五福堂站',\n",
       " '火箭万源站',\n",
       " '东高地站',\n",
       " '和义站',\n",
       " '大红门南站',\n",
       " '大红门站',\n",
       " '海户屯站',\n",
       " '木樨园站',\n",
       " '永定门外站',\n",
       " '天桥站',\n",
       " '珠市口站',\n",
       " '前门站',\n",
       " '王府井站',\n",
       " '天安门东站',\n",
       " '天安门西站',\n",
       " '西单站',\n",
       " '复兴门站',\n",
       " '南礼士路站',\n",
       " '木樨地站',\n",
       " '军事博物馆站',\n",
       " '公主坟站',\n",
       " '万寿路站',\n",
       " '五棵松站',\n",
       " '玉泉路站',\n",
       " '八宝山站',\n",
       " '八角游乐园站',\n",
       " '古城站',\n",
       " '苹果园站',\n",
       " '杨庄站',\n",
       " '西黄村站',\n",
       " '廖公庄站',\n",
       " '田村站',\n",
       " '海淀五路居站',\n",
       " '慈寿寺站',\n",
       " '花园桥站',\n",
       " '白石桥南站',\n",
       " '国家图书馆站',\n",
       " '动物园站',\n",
       " '西直门站',\n",
       " '清华东路西口站',\n",
       " '明光桥西站',\n",
       " '大钟寺站',\n",
       " '知春路站',\n",
       " '五道口站',\n",
       " '上地站',\n",
       " '清河站',\n",
       " '西二旗站',\n",
       " '龙泽站',\n",
       " '回龙观站',\n",
       " '霍营站',\n",
       " '建材城东路站',\n",
       " '立水桥站',\n",
       " '天通苑南站',\n",
       " '天通苑站',\n",
       " '天通苑北站',\n",
       " '平西府站',\n",
       " '育知路站',\n",
       " '朱辛庄站',\n",
       " '巩华城站',\n",
       " '沙河站',\n",
       " '沙河高教园站',\n",
       " '南邵站',\n",
       " '北邵洼站',\n",
       " '昌平东关站',\n",
       " '昌平站']"
      ]
     },
     "execution_count": 275,
     "metadata": {},
     "output_type": "execute_result"
    }
   ],
   "source": [
    "search('瀛海站', '昌平站',s_c_g,transfer_first)"
   ]
  },
  {
   "cell_type": "code",
   "execution_count": 292,
   "metadata": {
    "scrolled": true
   },
   "outputs": [
    {
     "data": {
      "text/plain": [
       "['瀛海站',\n",
       " '德茂站',\n",
       " '五福堂站',\n",
       " '火箭万源站',\n",
       " '东高地站',\n",
       " '和义站',\n",
       " '大红门南站',\n",
       " '大红门站',\n",
       " '角门东站',\n",
       " '角门西站',\n",
       " '马家堡站',\n",
       " '北京南站',\n",
       " '陶然亭站',\n",
       " '菜市口站',\n",
       " '宣武门站',\n",
       " '西单站',\n",
       " '灵境胡同站',\n",
       " '西四站',\n",
       " '平安里站',\n",
       " '新街口站',\n",
       " '西直门站',\n",
       " '清华东路西口站',\n",
       " '六道口站',\n",
       " '学清路站',\n",
       " '上清桥站',\n",
       " '清河站',\n",
       " '西二旗站',\n",
       " '生命科学园站',\n",
       " '朱辛庄站',\n",
       " '巩华城站',\n",
       " '沙河站',\n",
       " '沙河高教园站',\n",
       " '南邵站',\n",
       " '北邵洼站',\n",
       " '昌平东关站',\n",
       " '昌平站']"
      ]
     },
     "execution_count": 292,
     "metadata": {},
     "output_type": "execute_result"
    }
   ],
   "source": [
    "search('瀛海站','昌平站',s_c_g,shortest_distance_first)"
   ]
  },
  {
   "cell_type": "markdown",
   "metadata": {},
   "source": [
    "能run出来结果实在令我太开心了！对比了高德地图的结果，发现中间有部分线路不一样。详细对比了高德地图地铁站：http://map.amap.com/subway/index.html?&1100 之后\n",
    "\n",
    "发现我的结果会发生不同线之间站与站的跳跃。比如'珠市口站'之间跳到了'前门站'。\n",
    "\n",
    "起初以为是join所有站点连接的时候出错了。将前一条线的最后一站和后一条线的站点连到了一起。但检查发现不是"
   ]
  },
  {
   "cell_type": "markdown",
   "metadata": {},
   "source": [
    "![](https://raw.githubusercontent.com/haomingsama/NLP/master/nlp_Assign%232/WechatIMG842.png)"
   ]
  },
  {
   "cell_type": "markdown",
   "metadata": {},
   "source": [
    "检查结果发现：前门站的下一站居然是包含了珠市口。觉得有蹊跷。于是查了包含前门站的两条线路：8号线和2号线。其中8号线的百度百科网页显示，前门站的下一站是珠市口站。。。。\n",
    "\n",
    "类似还有一些站点跳跃的错误，应该都是百度百科的锅"
   ]
  },
  {
   "cell_type": "markdown",
   "metadata": {},
   "source": [
    "![](https://raw.githubusercontent.com/haomingsama/NLP/master/nlp_Assign%232/WechatIMG844.png)"
   ]
  },
  {
   "cell_type": "code",
   "execution_count": 284,
   "metadata": {},
   "outputs": [
    {
     "data": {
      "text/plain": [
       "['天桥站', '桥湾站']"
      ]
     },
     "execution_count": 284,
     "metadata": {},
     "output_type": "execute_result"
    }
   ],
   "source": [
    "station_connection['珠市口站']"
   ]
  },
  {
   "cell_type": "code",
   "execution_count": 285,
   "metadata": {},
   "outputs": [
    {
     "data": {
      "text/plain": [
       "AtlasView({'前门站': {}, '天桥站': {}, '桥湾站': {}, '虎坊桥站': {}})"
      ]
     },
     "execution_count": 285,
     "metadata": {},
     "output_type": "execute_result"
    }
   ],
   "source": [
    "s_c_g['珠市口站']"
   ]
  },
  {
   "cell_type": "code",
   "execution_count": 286,
   "metadata": {},
   "outputs": [
    {
     "data": {
      "text/plain": [
       "['珠市口站', '和平门站']"
      ]
     },
     "execution_count": 286,
     "metadata": {},
     "output_type": "execute_result"
    }
   ],
   "source": [
    "station_connection['前门站']"
   ]
  },
  {
   "cell_type": "code",
   "execution_count": 287,
   "metadata": {},
   "outputs": [
    {
     "name": "stdout",
     "output_type": "stream",
     "text": [
      "北京地铁8号线\n",
      "北京地铁2号线\n"
     ]
    }
   ],
   "source": [
    "for key, value in largedic.items():\n",
    "    dropstation=['前门站']\n",
    "    \n",
    "    for i in dropstation:\n",
    "        if i in largedic[key]:\n",
    "            print(key)\n",
    "    "
   ]
  },
  {
   "cell_type": "code",
   "execution_count": 288,
   "metadata": {},
   "outputs": [
    {
     "data": {
      "text/plain": [
       "{'朱辛庄站': [116.313662, 40.104346],\n",
       " '育知路站': [116.327896, 40.080257],\n",
       " '平西府站': [116.412338, 40.103367],\n",
       " '回龙观东大街站': [116.363025, 40.081154],\n",
       " '霍营站': [116.360322, 40.071848],\n",
       " '育新站': [116.347271, 40.060384],\n",
       " '西小口站': [116.351658, 40.046845],\n",
       " '永泰庄站': [116.35458, 40.037728],\n",
       " '林萃桥站': [116.372998, 40.021906],\n",
       " '森林公园南门站': [116.392764, 40.010234],\n",
       " '奥林匹克公园站': [116.393295, 40.002253],\n",
       " '奥体中心站': [116.393742, 39.985803],\n",
       " '北土城站': [116.394193, 39.976953],\n",
       " '安华桥站': [116.394608, 39.96863],\n",
       " '安德里北街站': [116.394988, 39.958707],\n",
       " '鼓楼大街站': [116.393776, 39.948972],\n",
       " '什刹海站': [116.396247, 39.937563],\n",
       " '南锣鼓巷站': [116.4133492, 39.9334746],\n",
       " '中国美术馆站': [116.410775, 39.924391],\n",
       " '王府井站': [116.41148, 39.90807600000001],\n",
       " '前门站': [116.397875, 39.90019400000001],\n",
       " '珠市口站': [116.39841, 39.891279],\n",
       " '天桥站': [116.395331, 39.883495],\n",
       " '永定门外站': [116.398559, 39.868334],\n",
       " '木樨园站': [116.398865, 39.858707],\n",
       " '海户屯站': [116.402885, 39.852478],\n",
       " '大红门站': [116.379377, 39.828963],\n",
       " '大红门南站': [116.407454, 39.842626],\n",
       " '和义站': [116.408508, 39.821382],\n",
       " '东高地站': [116.415686, 39.811433],\n",
       " '火箭万源站': [116.425129, 39.805336],\n",
       " '五福堂站': [116.4230083, 39.7854031],\n",
       " '德茂站': [116.448258, 39.778312],\n",
       " '瀛海站': [116.455615, 39.766756]}"
      ]
     },
     "execution_count": 288,
     "metadata": {},
     "output_type": "execute_result"
    }
   ],
   "source": [
    "largedic['北京地铁8号线']"
   ]
  },
  {
   "cell_type": "markdown",
   "metadata": {},
   "source": [
    "## （Optional）Create different policies for transfer system.--（30mins）\n"
   ]
  },
  {
   "cell_type": "markdown",
   "metadata": {},
   "source": [
    "以下部门为可选部分，请酌情完成。 并不要求全部同学完成。"
   ]
  },
  {
   "cell_type": "markdown",
   "metadata": {},
   "source": [
    "As much as you can to use the already implemented search agent. You just need to define the **is_goal()**, **get_successor()**, **strategy()** three functions. \n",
    "\n",
    "> a.\tDefine different policies for transfer system. \n",
    "\n",
    "> b.\tSuch as Shortest Path Priority（路程最短优先）, Minimum Transfer Priority(最少换乘优先), Comprehensive Priority(综合优先)\n",
    "\n",
    "> c.\tImplement Continuous transfer. Based on the Agent you implemented, please add this feature: Besides the @param start and @param destination two stations, add some more stations, we called @param by_way, it means, our path should from the start and end, but also include the  @param by_way stations. \n",
    "\n",
    "e.g \n",
    "```\n",
    "1. Input:  start=A,  destination=B, by_way=[C] \n",
    "    Output: [A, … .., C, …. B]\n",
    "2. Input: start=A, destination=B, by_way=[C, D, E]\n",
    "    Output: [A … C … E … D … B]  \n",
    "    # based on your policy, the E station could be reached firstly. \n",
    "![image.png](attachment:image.png)\n",
    "```"
   ]
  },
  {
   "cell_type": "code",
   "execution_count": 451,
   "metadata": {},
   "outputs": [],
   "source": [
    "def find_way(start,destination,strategy_choice,graph = s_c_g):\n",
    "    pathes = [[start]]\n",
    "    seen = set()\n",
    "    while pathes:\n",
    "        path = pathes.pop(0)\n",
    "        frontier = path[-1]\n",
    "        if frontier in seen: continue\n",
    "        for station in get_successor(frontier,graph):\n",
    "            if station in seen: continue\n",
    "            new_path = path + [station]\n",
    "            pathes.append(new_path)\n",
    "            if is_goal(station,destination):return new_path\n",
    "        pathes = strategy(strategy_choice, pathes)\n",
    "        seen.add(frontier)"
   ]
  },
  {
   "cell_type": "code",
   "execution_count": 437,
   "metadata": {},
   "outputs": [],
   "source": [
    "def is_goal(station,destination):\n",
    "    if station == destination: return True"
   ]
  },
  {
   "cell_type": "code",
   "execution_count": 439,
   "metadata": {},
   "outputs": [],
   "source": [
    "def get_successor(frontier,connection_graph):\n",
    "    successor_list = [station for station in connection_graph[frontier]]\n",
    "    return successor_list"
   ]
  },
  {
   "cell_type": "markdown",
   "metadata": {},
   "source": [
    "I don’t know the meaning of ‘Comprehensive Priority‘, so I just assgin transfer_first(pathes)for it. Maybe Comprehensive priority need to consider time, transfer, fee and population"
   ]
  },
  {
   "cell_type": "code",
   "execution_count": 486,
   "metadata": {},
   "outputs": [],
   "source": [
    "def strategy(choice,pathes):\n",
    "    if choice == 'Shortest Path Priority':\n",
    "        return shortest_distance_first(pathes)\n",
    "    elif choice == 'Minimum Transfer Priority':\n",
    "        return transfer_less(pathes)\n",
    "    elif choice == 'Comprehensive Priority':\n",
    "        return transfer_first(pathes)"
   ]
  },
  {
   "cell_type": "code",
   "execution_count": 477,
   "metadata": {},
   "outputs": [],
   "source": [
    "def get_routes(start,destination,strategy_choice,by_way,graph = s_c_g):\n",
    "        final_routes = [start]\n",
    "        des = by_way+[destination]\n",
    "        print('从%s开始，经过%s，到达%s'%(start,by_way,destination))\n",
    "        if len(des)==1:return find_way(start,destination,strategy_choice)\n",
    "        \n",
    "        for middle in des:\n",
    "            if middle == des[-1]:\n",
    "                routes = find_way(start,middle,strategy_choice)\n",
    "                final_routes=final_routes + routes[1:]\n",
    "            \n",
    "            routes = find_way(start,middle,strategy_choice)\n",
    "            start = middle\n",
    "            final_routes= final_routes+routes[1:] \n",
    "            \n",
    "            \n",
    "       \n",
    "        return final_routes\n"
   ]
  },
  {
   "cell_type": "code",
   "execution_count": 481,
   "metadata": {},
   "outputs": [
    {
     "name": "stdout",
     "output_type": "stream",
     "text": [
      "从瀛海站开始，经过['大红门站', '亦庄火车站']，到达昌平站\n"
     ]
    },
    {
     "data": {
      "text/plain": [
       "['瀛海站',\n",
       " '德茂站',\n",
       " '五福堂站',\n",
       " '火箭万源站',\n",
       " '东高地站',\n",
       " '和义站',\n",
       " '大红门南站',\n",
       " '大红门站',\n",
       " '石榴庄站',\n",
       " '宋家庄站',\n",
       " '肖村站',\n",
       " '小红门站',\n",
       " '旧宫站',\n",
       " '亦庄桥站',\n",
       " '亦庄文化园站',\n",
       " '万源街站',\n",
       " '荣京东街站',\n",
       " '荣昌东街站',\n",
       " '同济南路站',\n",
       " '经海路站',\n",
       " '次渠南站',\n",
       " '次渠站',\n",
       " '亦庄火车站',\n",
       " '次渠站',\n",
       " '次渠南站',\n",
       " '经海路站',\n",
       " '同济南路站',\n",
       " '荣昌东街站',\n",
       " '荣京东街站',\n",
       " '万源街站',\n",
       " '亦庄文化园站',\n",
       " '亦庄桥站',\n",
       " '旧宫站',\n",
       " '小红门站',\n",
       " '肖村站',\n",
       " '宋家庄站',\n",
       " '刘家窑站',\n",
       " '蒲黄榆站',\n",
       " '天坛东门站',\n",
       " '磁器口站',\n",
       " '崇文门站',\n",
       " '东单站',\n",
       " '灯市口站',\n",
       " '东四站',\n",
       " '南锣鼓巷站',\n",
       " '什刹海站',\n",
       " '鼓楼大街站',\n",
       " '安德里北街站',\n",
       " '安华桥站',\n",
       " '北土城站',\n",
       " '健德门站',\n",
       " '牡丹园站',\n",
       " '西土城站',\n",
       " '六道口站',\n",
       " '学清路站',\n",
       " '上清桥站',\n",
       " '清河站',\n",
       " '西二旗站',\n",
       " '生命科学园站',\n",
       " '朱辛庄站',\n",
       " '巩华城站',\n",
       " '沙河站',\n",
       " '沙河高教园站',\n",
       " '南邵站',\n",
       " '北邵洼站',\n",
       " '昌平东关站',\n",
       " '昌平站',\n",
       " '次渠站',\n",
       " '次渠南站',\n",
       " '经海路站',\n",
       " '同济南路站',\n",
       " '荣昌东街站',\n",
       " '荣京东街站',\n",
       " '万源街站',\n",
       " '亦庄文化园站',\n",
       " '亦庄桥站',\n",
       " '旧宫站',\n",
       " '小红门站',\n",
       " '肖村站',\n",
       " '宋家庄站',\n",
       " '刘家窑站',\n",
       " '蒲黄榆站',\n",
       " '天坛东门站',\n",
       " '磁器口站',\n",
       " '崇文门站',\n",
       " '东单站',\n",
       " '灯市口站',\n",
       " '东四站',\n",
       " '南锣鼓巷站',\n",
       " '什刹海站',\n",
       " '鼓楼大街站',\n",
       " '安德里北街站',\n",
       " '安华桥站',\n",
       " '北土城站',\n",
       " '健德门站',\n",
       " '牡丹园站',\n",
       " '西土城站',\n",
       " '六道口站',\n",
       " '学清路站',\n",
       " '上清桥站',\n",
       " '清河站',\n",
       " '西二旗站',\n",
       " '生命科学园站',\n",
       " '朱辛庄站',\n",
       " '巩华城站',\n",
       " '沙河站',\n",
       " '沙河高教园站',\n",
       " '南邵站',\n",
       " '北邵洼站',\n",
       " '昌平东关站',\n",
       " '昌平站']"
      ]
     },
     "execution_count": 481,
     "metadata": {},
     "output_type": "execute_result"
    }
   ],
   "source": [
    "get_routes('瀛海站','昌平站','Shortest Path Priority',['大红门站','亦庄火车站'])"
   ]
  },
  {
   "cell_type": "code",
   "execution_count": 482,
   "metadata": {},
   "outputs": [
    {
     "name": "stdout",
     "output_type": "stream",
     "text": [
      "从瀛海站开始，经过['清河站', '望京东站']，到达昌平站\n"
     ]
    },
    {
     "data": {
      "text/plain": [
       "['瀛海站',\n",
       " '德茂站',\n",
       " '五福堂站',\n",
       " '火箭万源站',\n",
       " '东高地站',\n",
       " '和义站',\n",
       " '大红门南站',\n",
       " '大红门站',\n",
       " '角门东站',\n",
       " '角门西站',\n",
       " '马家堡站',\n",
       " '北京南站',\n",
       " '陶然亭站',\n",
       " '菜市口站',\n",
       " '宣武门站',\n",
       " '西单站',\n",
       " '灵境胡同站',\n",
       " '西四站',\n",
       " '平安里站',\n",
       " '新街口站',\n",
       " '西直门站',\n",
       " '清华东路西口站',\n",
       " '六道口站',\n",
       " '学清路站',\n",
       " '上清桥站',\n",
       " '清河站',\n",
       " '上清桥站',\n",
       " '学清路站',\n",
       " '六道口站',\n",
       " '北沙滩站',\n",
       " '奥林匹克公园站',\n",
       " '安立路站',\n",
       " '大屯路东站',\n",
       " '关庄站',\n",
       " '望京西站',\n",
       " '望京站',\n",
       " '望京东站',\n",
       " '望京站',\n",
       " '望京西站',\n",
       " '关庄站',\n",
       " '大屯路东站',\n",
       " '安立路站',\n",
       " '奥林匹克公园站',\n",
       " '北沙滩站',\n",
       " '六道口站',\n",
       " '学清路站',\n",
       " '上清桥站',\n",
       " '清河站',\n",
       " '西二旗站',\n",
       " '生命科学园站',\n",
       " '朱辛庄站',\n",
       " '巩华城站',\n",
       " '沙河站',\n",
       " '沙河高教园站',\n",
       " '南邵站',\n",
       " '北邵洼站',\n",
       " '昌平东关站',\n",
       " '昌平站',\n",
       " '望京站',\n",
       " '望京西站',\n",
       " '关庄站',\n",
       " '大屯路东站',\n",
       " '安立路站',\n",
       " '奥林匹克公园站',\n",
       " '北沙滩站',\n",
       " '六道口站',\n",
       " '学清路站',\n",
       " '上清桥站',\n",
       " '清河站',\n",
       " '西二旗站',\n",
       " '生命科学园站',\n",
       " '朱辛庄站',\n",
       " '巩华城站',\n",
       " '沙河站',\n",
       " '沙河高教园站',\n",
       " '南邵站',\n",
       " '北邵洼站',\n",
       " '昌平东关站',\n",
       " '昌平站']"
      ]
     },
     "execution_count": 482,
     "metadata": {},
     "output_type": "execute_result"
    }
   ],
   "source": [
    "get_routes('瀛海站','昌平站','Shortest Path Priority',['清河站','望京东站'])"
   ]
  },
  {
   "cell_type": "code",
   "execution_count": 487,
   "metadata": {},
   "outputs": [
    {
     "name": "stdout",
     "output_type": "stream",
     "text": [
      "从瀛海站开始，经过['清河站', '望京东站']，到达昌平站\n"
     ]
    },
    {
     "data": {
      "text/plain": [
       "['瀛海站',\n",
       " '德茂站',\n",
       " '五福堂站',\n",
       " '火箭万源站',\n",
       " '东高地站',\n",
       " '和义站',\n",
       " '大红门南站',\n",
       " '大红门站',\n",
       " '海户屯站',\n",
       " '木樨园站',\n",
       " '永定门外站',\n",
       " '天桥站',\n",
       " '珠市口站',\n",
       " '前门站',\n",
       " '王府井站',\n",
       " '中国美术馆站',\n",
       " '南锣鼓巷站',\n",
       " '什刹海站',\n",
       " '鼓楼大街站',\n",
       " '积水潭站',\n",
       " '西直门站',\n",
       " '清华东路西口站',\n",
       " '六道口站',\n",
       " '学清路站',\n",
       " '上清桥站',\n",
       " '清河站',\n",
       " '西二旗站',\n",
       " '龙泽站',\n",
       " '回龙观站',\n",
       " '霍营站',\n",
       " '建材城东路站',\n",
       " '立水桥站',\n",
       " '北苑站',\n",
       " '望京西站',\n",
       " '望京站',\n",
       " '望京东站',\n",
       " '望京站',\n",
       " '望京西站',\n",
       " '北苑站',\n",
       " '立水桥站',\n",
       " '建材城东路站',\n",
       " '霍营站',\n",
       " '回龙观东大街站',\n",
       " '平西府站',\n",
       " '育知路站',\n",
       " '朱辛庄站',\n",
       " '巩华城站',\n",
       " '沙河站',\n",
       " '沙河高教园站',\n",
       " '南邵站',\n",
       " '北邵洼站',\n",
       " '昌平东关站',\n",
       " '昌平站',\n",
       " '望京站',\n",
       " '望京西站',\n",
       " '北苑站',\n",
       " '立水桥站',\n",
       " '建材城东路站',\n",
       " '霍营站',\n",
       " '回龙观东大街站',\n",
       " '平西府站',\n",
       " '育知路站',\n",
       " '朱辛庄站',\n",
       " '巩华城站',\n",
       " '沙河站',\n",
       " '沙河高教园站',\n",
       " '南邵站',\n",
       " '北邵洼站',\n",
       " '昌平东关站',\n",
       " '昌平站']"
      ]
     },
     "execution_count": 487,
     "metadata": {},
     "output_type": "execute_result"
    }
   ],
   "source": [
    "get_routes('瀛海站','昌平站','Minimum Transfer Priority',['清河站','望京东站'])"
   ]
  },
  {
   "cell_type": "markdown",
   "metadata": {},
   "source": [
    "恭喜，完成本次课程，你对常用的人工智能方法以及有一定的了解了。基于规则的，基于概率模型的，基于搜索的，基于机器学习的。 可以说，我们现在通常见到的方法都能够归属到这几类方法中。 这就是**人工智能**，并没有很难是吧？ 继续加油！"
   ]
  },
  {
   "cell_type": "markdown",
   "metadata": {},
   "source": [
    "![](https://timgsa.baidu.com/timg?image&quality=80&size=b9999_10000&sec=1562415163815&di=4b29a2a863a8285212033760f288ed7a&imgtype=0&src=http%3A%2F%2F5b0988e595225.cdn.sohucs.com%2Fimages%2F20180710%2F8704194a1d7f46a383ddc29d40c9bca5.jpeg)"
   ]
  }
 ],
 "metadata": {
  "kernelspec": {
   "display_name": "Python 3",
   "language": "python",
   "name": "python3"
  },
  "language_info": {
   "codemirror_mode": {
    "name": "ipython",
    "version": 3
   },
   "file_extension": ".py",
   "mimetype": "text/x-python",
   "name": "python",
   "nbconvert_exporter": "python",
   "pygments_lexer": "ipython3",
   "version": "3.6.5"
  }
 },
 "nbformat": 4,
 "nbformat_minor": 4
}
