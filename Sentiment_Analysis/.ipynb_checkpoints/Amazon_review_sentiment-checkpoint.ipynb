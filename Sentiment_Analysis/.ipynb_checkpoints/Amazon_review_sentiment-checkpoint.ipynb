{
 "cells": [
  {
   "cell_type": "code",
   "execution_count": 21,
   "metadata": {},
   "outputs": [],
   "source": [
    "import nltk\n",
    "import numpy as np\n",
    "from nltk.stem import WordNetLemmatizer\n",
    "from sklearn.linear_model import LogisticRegression\n",
    "from bs4 import BeautifulSoup\n",
    "from future.utils import iteritems\n",
    "from sklearn.utils import shuffle"
   ]
  },
  {
   "cell_type": "code",
   "execution_count": 22,
   "metadata": {},
   "outputs": [],
   "source": [
    "wordnet_lemmatizer = WordNetLemmatizer()\n",
    "stopwords = set([w.rstrip() for w in open('stopwords.txt','r')])"
   ]
  },
  {
   "cell_type": "code",
   "execution_count": 23,
   "metadata": {},
   "outputs": [],
   "source": [
    "positive_review = BeautifulSoup(open('sorted_data_acl/electronics/positive.review').read())\n",
    "negative_review = BeautifulSoup(open('sorted_data_acl/electronics/negative.review').read())"
   ]
  },
  {
   "cell_type": "code",
   "execution_count": 24,
   "metadata": {},
   "outputs": [],
   "source": [
    "positive_review = positive_review.findAll('review_text')\n",
    "negative_review = negative_review.findAll('review_text')"
   ]
  },
  {
   "cell_type": "code",
   "execution_count": 25,
   "metadata": {},
   "outputs": [
    {
     "name": "stdout",
     "output_type": "stream",
     "text": [
      "<class 'bs4.element.ResultSet'>\n",
      "1000\n",
      "1000\n"
     ]
    }
   ],
   "source": [
    "print(type(positive_review))\n",
    "print(len(positive_review))\n",
    "print(len(negative_review))\n",
    "#Numpy 尽然可以对这个对象进行操作\n",
    "np.random.shuffle(positive_review)\n",
    "#这里positive和negative是一样的数量，如果遇到不平衡的数据记得要让其平衡\n",
    "positive_review = positive_review[:len(negative_review)]"
   ]
  },
  {
   "cell_type": "code",
   "execution_count": 26,
   "metadata": {},
   "outputs": [],
   "source": [
    "def my_tokenizer(s):\n",
    "    s= s.lower()\n",
    "    tokens = nltk.tokenize.word_tokenize(s)\n",
    "    tokens = [s for s in tokens if len(s)>2]\n",
    "    tokens = [wordnet_lemmatizer.lemmatize(t) for t in tokens]\n",
    "    tokens = [t for t in tokens if t not in stopwords]\n",
    "    return tokens"
   ]
  },
  {
   "cell_type": "code",
   "execution_count": 27,
   "metadata": {},
   "outputs": [],
   "source": [
    "word_index_map ={}\n",
    "current_index = 0\n",
    "#为了避免重复做tokenize的计算，将token储存到一个列表里\n",
    "positive_tokenized = []\n",
    "negative_tokenized = []\n",
    "orig_reviews = []\n",
    "\n",
    "\n",
    "# 从postivie_review中收集词汇\n",
    "for review in positive_review:\n",
    "    orig_reviews.append(review.text)\n",
    "    tokens = my_tokenizer(review.text)\n",
    "    positive_tokenized.append(tokens)\n",
    "    for token in tokens:\n",
    "        if token not in word_index_map:\n",
    "            word_index_map[token] = current_index\n",
    "            current_index +=1\n",
    "\n",
    "# 从negative_review中看看还有没有新的词汇            \n",
    "for review in negative_review:\n",
    "    orig_reviews.append(review.text)\n",
    "    tokens = my_tokenizer(review.text)\n",
    "    negative_tokenized.append(tokens)\n",
    "    for token in tokens:\n",
    "        if token not in word_index_map:\n",
    "            word_index_map[token] = current_index\n",
    "            current_index +=1\n",
    "\n"
   ]
  },
  {
   "cell_type": "code",
   "execution_count": 28,
   "metadata": {},
   "outputs": [],
   "source": [
    "def tokens_to_vector(tokens,label):\n",
    "    x = np.zeros(len(word_index_map)+1) #+1是给label留了一个column\n",
    "    for t in tokens:\n",
    "        i = word_index_map[t]\n",
    "        x[i] +=1\n",
    "    x = x/x.sum()\n",
    "    x[-1] = label\n",
    "    return x\n",
    "        \n",
    "    \n",
    "    "
   ]
  },
  {
   "cell_type": "code",
   "execution_count": 29,
   "metadata": {},
   "outputs": [],
   "source": [
    "N = len(positive_review)+len(negative_review)\n",
    "data = np.zeros((N,len(word_index_map)+1))\n",
    "\n",
    "i = 0\n",
    "for token in positive_tokenized:\n",
    "    xy = tokens_to_vector(token,1)\n",
    "    data[i,:]=xy\n",
    "    i+=1\n",
    "\n",
    "for token in negative_tokenized:\n",
    "    xy = tokens_to_vector(token,0)\n",
    "    data[i,:]=xy\n",
    "    i+=1\n",
    "orig_reviews, data = shuffle(orig_reviews, data)\n",
    "# np.random.shuffle(data)\n",
    "X = data[:,:-1]\n",
    "Y = data[:,-1]\n",
    "# last 100 rows will be test\n",
    "Xtrain = X[:-100,]\n",
    "Ytrain = Y[:-100,]\n",
    "Xtest = X[-100:,]\n",
    "Ytest = Y[-100:,]\n"
   ]
  },
  {
   "cell_type": "code",
   "execution_count": 30,
   "metadata": {},
   "outputs": [
    {
     "name": "stderr",
     "output_type": "stream",
     "text": [
      "/anaconda3/lib/python3.6/site-packages/sklearn/linear_model/logistic.py:432: FutureWarning: Default solver will be changed to 'lbfgs' in 0.22. Specify a solver to silence this warning.\n",
      "  FutureWarning)\n"
     ]
    },
    {
     "name": "stdout",
     "output_type": "stream",
     "text": [
      "Train accuracy: 0.7852631578947369\n",
      "Test accuracy: 0.75\n"
     ]
    }
   ],
   "source": [
    "model = LogisticRegression()\n",
    "model.fit(Xtrain, Ytrain)\n",
    "print(\"Train accuracy:\", model.score(Xtrain, Ytrain))\n",
    "print(\"Test accuracy:\", model.score(Xtest, Ytest))"
   ]
  },
  {
   "cell_type": "code",
   "execution_count": 31,
   "metadata": {},
   "outputs": [
    {
     "name": "stdout",
     "output_type": "stream",
     "text": [
      "price 2.7552918290468273\n",
      "wa -1.5667967682203252\n",
      "fast 0.9305590928229047\n",
      "item -0.9418085319151253\n",
      "money -1.138143767606628\n",
      "ha 0.6676331547464043\n",
      "comfortable 0.5694958844128362\n",
      "easy 1.771200891760291\n",
      "card -0.5505449487049685\n",
      "buy -0.9129885277851556\n",
      "quality 1.4829739986817791\n",
      "recommend 0.5963505125178439\n",
      "memory 0.9637830593575111\n",
      "then -1.2162491883888558\n",
      "lot 0.7565027499048885\n",
      "you 0.9888484520612553\n",
      "sound 1.010517235684941\n",
      "returning -0.5209778528144329\n",
      "company -0.5404055204154519\n",
      "n't -2.0217714150490056\n",
      "'ve 0.7969123390666663\n",
      "time -0.7407011187515509\n",
      "pretty 0.7564580654881009\n",
      "doe -1.3324976742434105\n",
      "hour -0.5932567512111824\n",
      "picture 0.5622845418949092\n",
      "try -0.6563475219102972\n",
      "junk -0.534347225175127\n",
      "perfect 0.9928018773074604\n",
      "love 1.1640525916441975\n",
      "speaker 0.8863951491992111\n",
      "little 0.9426842510904787\n",
      "home 0.5321234397715789\n",
      "video 0.547251541684964\n",
      "cable 0.7020148599246453\n",
      "customer -0.7075438347920198\n",
      "bit 0.6253490226970532\n",
      "using 0.5978614851236363\n",
      "value 0.5700949516971046\n",
      "bad -0.8188725325959859\n",
      "unit -0.6568894081663035\n",
      "month -0.7359360903638206\n",
      "happy 0.6302408184087971\n",
      "excellent 1.248611798410158\n",
      "paper 0.6055856086604755\n",
      "week -0.7209658677425315\n",
      "pleased 0.5046122325613065\n",
      "space 0.58572953567264\n",
      "support -0.9231983703741458\n",
      "highly 0.9817952955370738\n",
      "warranty -0.5612586215117137\n",
      "look 0.5021477516726298\n",
      "laptop 0.5835842208724205\n",
      "tried -0.8205949504412886\n",
      "returned -0.7972361063329204\n",
      "expected 0.5530714007407476\n",
      "poor -0.6938055231808965\n",
      "return -1.2333917520799194\n",
      "waste -1.0432450357995742\n",
      "refund -0.6325151407485794\n",
      "stopped -0.5424664968121399\n",
      "terrible -0.5019404953448625\n"
     ]
    }
   ],
   "source": [
    "threshold = 0.5\n",
    "for word, index in iteritems(word_index_map):\n",
    "    weight = model.coef_[0][index]\n",
    "    if weight > threshold or weight < -threshold:\n",
    "        print(word, weight)"
   ]
  },
  {
   "cell_type": "code",
   "execution_count": 32,
   "metadata": {},
   "outputs": [],
   "source": [
    "# check misclassified examples\n",
    "preds = model.predict(X)\n",
    "P =model.predict_proba(X)[:,1] # p(y = 1 | x)"
   ]
  },
  {
   "cell_type": "code",
   "execution_count": 33,
   "metadata": {},
   "outputs": [
    {
     "name": "stdout",
     "output_type": "stream",
     "text": [
      "Most wrong positive review (prob = 0.3529949837724324, pred = 0.0):\n",
      "\n",
      "A device like this either works or it doesn't.  This one happens to work\n",
      "\n",
      "Most wrong negative review (prob = 0.6029577639904368, pred = 1.0):\n",
      "\n",
      "The Voice recorder meets all my expectations and more\n",
      "Easy to use, easy to transfer great results\n",
      "\n"
     ]
    }
   ],
   "source": [
    "# since there are many, just print the \"most\" wrong samples\n",
    "minP_whenYis1 = 1\n",
    "maxP_whenYis0 = 0\n",
    "wrong_positive_review = None\n",
    "wrong_negative_review = None\n",
    "wrong_positive_prediction = None\n",
    "wrong_negative_prediction = None\n",
    "\n",
    "for i in range(N):\n",
    "    p = P[i]\n",
    "    y = Y[i]\n",
    "    if y == 1 and p < 0.5:\n",
    "        if p < minP_whenYis1:\n",
    "            wrong_positive_review = orig_reviews[i]\n",
    "            wrong_positive_prediction = preds[i]\n",
    "            minP_whenYis1 = p\n",
    "    elif y == 0 and p > 0.5:\n",
    "        if p > maxP_whenYis0:\n",
    "            wrong_negative_review = orig_reviews[i]\n",
    "            wrong_negative_prediction = preds[i]\n",
    "            maxP_whenYis0 = p\n",
    "\n",
    "print(\"Most wrong positive review (prob = %s, pred = %s):\" % (minP_whenYis1, wrong_positive_prediction))\n",
    "print(wrong_positive_review)\n",
    "print(\"Most wrong negative review (prob = %s, pred = %s):\" % (maxP_whenYis0, wrong_negative_prediction))\n",
    "print(wrong_negative_review)"
   ]
  },
  {
   "cell_type": "code",
   "execution_count": null,
   "metadata": {},
   "outputs": [],
   "source": []
  },
  {
   "cell_type": "code",
   "execution_count": null,
   "metadata": {},
   "outputs": [],
   "source": []
  }
 ],
 "metadata": {
  "kernelspec": {
   "display_name": "Python 3",
   "language": "python",
   "name": "python3"
  },
  "language_info": {
   "codemirror_mode": {
    "name": "ipython",
    "version": 3
   },
   "file_extension": ".py",
   "mimetype": "text/x-python",
   "name": "python",
   "nbconvert_exporter": "python",
   "pygments_lexer": "ipython3",
   "version": "3.6.9"
  }
 },
 "nbformat": 4,
 "nbformat_minor": 2
}
